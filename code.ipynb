{
 "cells": [
  {
   "cell_type": "markdown",
   "metadata": {},
   "source": [
    "# Data Analysis on Marketing"
   ]
  },
  {
   "cell_type": "markdown",
   "metadata": {},
   "source": [
    "https://www.kaggle.com/datasets/yufengsui/portuguese-bank-marketing-data-set\n",
    "\n",
    "Data from UC Irvine Machine Learning Repository of a Portuguese bank that used its own contact-center to do directed marketing campaigns. \n",
    "The dataset collected is related to 17 campaigns that occurred between May 2008 and November 2010, corresponding to a total of 41188 customers,\n",
    "which aim to promote term deposits among existing customers. </p>\n",
    "\n",
    "This project strives to create a model to predit the outcomes of each targeted phone calls, aiming to improve the productivity of the call center."
   ]
  },
  {
   "cell_type": "markdown",
   "metadata": {},
   "source": [
    "##### Input variables:\n",
    "**- Client data: cust_v2.xlsx** <br>\n",
    "1 - cust_id : customer id<br>\n",
    "2 - age (numeric)<br>\n",
    "3 - job : type of job (categorical: 'admin.','blue-collar','entrepreneur','housemaid','management','retired','self-employed','services','student','technician','unemployed')<br>\n",
    "4 - marital : marital status (categorical: 'divorced','married','single')<br>\n",
    "5 - education: highest education complete (categorical: 'basic.4y','basic.6y','basic.9y','high.school','illiterate','professional.course','university.degree')<br>\n",
    "6 - default: has credit in default? (categorical: 'no','yes')<br>\n",
    "7 - mortgage: has housing loan? (categorical: 'no','yes')<br>\n",
    "8 - loan: has personal loan? (categorical: 'no','yes')<br>\n",
    "<br>\n",
    "**- Historical campaign results: contact_v2.csv**<br>\n",
    "9 - contact_type: contact communication type (categorical: 'cellular','telephone')<br> \n",
    "10 - date: last contact date<br>\n",
    "11 - duration: last contact duration, in seconds (numeric)<br>\n",
    "12 - contact_num: number of contacts performed during campaign for this client (numeric, includes last contact)<br>\n",
    "13 - p_days: number of days that passed by after the client was last contacted from a previous campaign (numeric; 999 means client was not previously contacted)<br>\n",
    "14 - p_outcome: outcome of the previous marketing campaign (categorical: 'failure','nonexistent','success')<br>\n",
    "##### Output variables:\n",
    "15 - y - has the client subscribed a term deposit? (binary: 'yes','no')"
   ]
  },
  {
   "cell_type": "markdown",
   "metadata": {},
   "source": [
    "## Library used\n"
   ]
  },
  {
   "cell_type": "code",
   "execution_count": 3,
   "metadata": {},
   "outputs": [],
   "source": [
    "import pandas as pd\n",
    "import numpy as np\n",
    "import matplotlib.pyplot as plt\n",
    "import sklearn"
   ]
  },
  {
   "cell_type": "markdown",
   "metadata": {},
   "source": [
    "## Load dataset"
   ]
  },
  {
   "cell_type": "code",
   "execution_count": 4,
   "metadata": {},
   "outputs": [
    {
     "data": {
      "text/html": [
       "<div>\n",
       "<style scoped>\n",
       "    .dataframe tbody tr th:only-of-type {\n",
       "        vertical-align: middle;\n",
       "    }\n",
       "\n",
       "    .dataframe tbody tr th {\n",
       "        vertical-align: top;\n",
       "    }\n",
       "\n",
       "    .dataframe thead th {\n",
       "        text-align: right;\n",
       "    }\n",
       "</style>\n",
       "<table border=\"1\" class=\"dataframe\">\n",
       "  <thead>\n",
       "    <tr style=\"text-align: right;\">\n",
       "      <th></th>\n",
       "      <th>cust_id</th>\n",
       "      <th>age</th>\n",
       "      <th>job</th>\n",
       "      <th>marital</th>\n",
       "      <th>education</th>\n",
       "      <th>default</th>\n",
       "      <th>mortgage</th>\n",
       "      <th>loan</th>\n",
       "    </tr>\n",
       "  </thead>\n",
       "  <tbody>\n",
       "    <tr>\n",
       "      <th>0</th>\n",
       "      <td>78339</td>\n",
       "      <td>48.0</td>\n",
       "      <td>blue-collar</td>\n",
       "      <td>married</td>\n",
       "      <td>basic.6y</td>\n",
       "      <td>no</td>\n",
       "      <td>yes</td>\n",
       "      <td>no</td>\n",
       "    </tr>\n",
       "    <tr>\n",
       "      <th>1</th>\n",
       "      <td>94962</td>\n",
       "      <td>68.0</td>\n",
       "      <td>retired</td>\n",
       "      <td>married</td>\n",
       "      <td>university.degree</td>\n",
       "      <td>no</td>\n",
       "      <td>yes</td>\n",
       "      <td>no</td>\n",
       "    </tr>\n",
       "    <tr>\n",
       "      <th>2</th>\n",
       "      <td>71110</td>\n",
       "      <td>45.0</td>\n",
       "      <td>services</td>\n",
       "      <td>divorced</td>\n",
       "      <td>high.school</td>\n",
       "      <td>unknown</td>\n",
       "      <td>yes</td>\n",
       "      <td>no</td>\n",
       "    </tr>\n",
       "    <tr>\n",
       "      <th>3</th>\n",
       "      <td>97004</td>\n",
       "      <td>28.0</td>\n",
       "      <td>blue-collar</td>\n",
       "      <td>single</td>\n",
       "      <td>unknown</td>\n",
       "      <td>no</td>\n",
       "      <td>no</td>\n",
       "      <td>no</td>\n",
       "    </tr>\n",
       "    <tr>\n",
       "      <th>4</th>\n",
       "      <td>11598</td>\n",
       "      <td>37.0</td>\n",
       "      <td>blue-collar</td>\n",
       "      <td>married</td>\n",
       "      <td>professional.course</td>\n",
       "      <td>no</td>\n",
       "      <td>no</td>\n",
       "      <td>no</td>\n",
       "    </tr>\n",
       "    <tr>\n",
       "      <th>...</th>\n",
       "      <td>...</td>\n",
       "      <td>...</td>\n",
       "      <td>...</td>\n",
       "      <td>...</td>\n",
       "      <td>...</td>\n",
       "      <td>...</td>\n",
       "      <td>...</td>\n",
       "      <td>...</td>\n",
       "    </tr>\n",
       "    <tr>\n",
       "      <th>42183</th>\n",
       "      <td>56044</td>\n",
       "      <td>32.0</td>\n",
       "      <td>blue-collar</td>\n",
       "      <td>single</td>\n",
       "      <td>basic.9y</td>\n",
       "      <td>no</td>\n",
       "      <td>yes</td>\n",
       "      <td>no</td>\n",
       "    </tr>\n",
       "    <tr>\n",
       "      <th>42184</th>\n",
       "      <td>24556</td>\n",
       "      <td>42.0</td>\n",
       "      <td>blue-collar</td>\n",
       "      <td>married</td>\n",
       "      <td>high.school</td>\n",
       "      <td>no</td>\n",
       "      <td>no</td>\n",
       "      <td>yes</td>\n",
       "    </tr>\n",
       "    <tr>\n",
       "      <th>42185</th>\n",
       "      <td>15097</td>\n",
       "      <td>54.0</td>\n",
       "      <td>technician</td>\n",
       "      <td>married</td>\n",
       "      <td>high.school</td>\n",
       "      <td>no</td>\n",
       "      <td>yes</td>\n",
       "      <td>no</td>\n",
       "    </tr>\n",
       "    <tr>\n",
       "      <th>42186</th>\n",
       "      <td>2365</td>\n",
       "      <td>37.0</td>\n",
       "      <td>technician</td>\n",
       "      <td>married</td>\n",
       "      <td>university.degree</td>\n",
       "      <td>no</td>\n",
       "      <td>no</td>\n",
       "      <td>no</td>\n",
       "    </tr>\n",
       "    <tr>\n",
       "      <th>42187</th>\n",
       "      <td>23349</td>\n",
       "      <td>40.0</td>\n",
       "      <td>blue-collar</td>\n",
       "      <td>married</td>\n",
       "      <td>basic.6y</td>\n",
       "      <td>unknown</td>\n",
       "      <td>yes</td>\n",
       "      <td>no</td>\n",
       "    </tr>\n",
       "  </tbody>\n",
       "</table>\n",
       "<p>42188 rows × 8 columns</p>\n",
       "</div>"
      ],
      "text/plain": [
       "       cust_id   age          job   marital            education  default  \\\n",
       "0        78339  48.0  blue-collar   married             basic.6y       no   \n",
       "1        94962  68.0      retired   married    university.degree       no   \n",
       "2        71110  45.0     services  divorced          high.school  unknown   \n",
       "3        97004  28.0  blue-collar    single              unknown       no   \n",
       "4        11598  37.0  blue-collar   married  professional.course       no   \n",
       "...        ...   ...          ...       ...                  ...      ...   \n",
       "42183    56044  32.0  blue-collar    single             basic.9y       no   \n",
       "42184    24556  42.0  blue-collar   married          high.school       no   \n",
       "42185    15097  54.0   technician   married          high.school       no   \n",
       "42186     2365  37.0   technician   married    university.degree       no   \n",
       "42187    23349  40.0  blue-collar   married             basic.6y  unknown   \n",
       "\n",
       "      mortgage loan  \n",
       "0          yes   no  \n",
       "1          yes   no  \n",
       "2          yes   no  \n",
       "3           no   no  \n",
       "4           no   no  \n",
       "...        ...  ...  \n",
       "42183      yes   no  \n",
       "42184       no  yes  \n",
       "42185      yes   no  \n",
       "42186       no   no  \n",
       "42187      yes   no  \n",
       "\n",
       "[42188 rows x 8 columns]"
      ]
     },
     "execution_count": 4,
     "metadata": {},
     "output_type": "execute_result"
    }
   ],
   "source": [
    "cust = pd.read_excel('/workspaces/MARKETING_CAMPAIGN_ANALYSIS/cust_v2.xlsx')\n",
    "cust"
   ]
  },
  {
   "cell_type": "code",
   "execution_count": 5,
   "metadata": {},
   "outputs": [
    {
     "data": {
      "text/html": [
       "<div>\n",
       "<style scoped>\n",
       "    .dataframe tbody tr th:only-of-type {\n",
       "        vertical-align: middle;\n",
       "    }\n",
       "\n",
       "    .dataframe tbody tr th {\n",
       "        vertical-align: top;\n",
       "    }\n",
       "\n",
       "    .dataframe thead th {\n",
       "        text-align: right;\n",
       "    }\n",
       "</style>\n",
       "<table border=\"1\" class=\"dataframe\">\n",
       "  <thead>\n",
       "    <tr style=\"text-align: right;\">\n",
       "      <th></th>\n",
       "      <th>cust_id</th>\n",
       "      <th>contact_type</th>\n",
       "      <th>duration</th>\n",
       "      <th>contact_num</th>\n",
       "      <th>p_days</th>\n",
       "      <th>p_outcome</th>\n",
       "      <th>y</th>\n",
       "      <th>date</th>\n",
       "    </tr>\n",
       "  </thead>\n",
       "  <tbody>\n",
       "    <tr>\n",
       "      <th>0</th>\n",
       "      <td>44715</td>\n",
       "      <td>cellular</td>\n",
       "      <td>108.0</td>\n",
       "      <td>2.0</td>\n",
       "      <td>999</td>\n",
       "      <td>nonexistent</td>\n",
       "      <td>no</td>\n",
       "      <td>02/08/2008</td>\n",
       "    </tr>\n",
       "    <tr>\n",
       "      <th>1</th>\n",
       "      <td>62194</td>\n",
       "      <td>telephone</td>\n",
       "      <td>422.0</td>\n",
       "      <td>5.0</td>\n",
       "      <td>999</td>\n",
       "      <td>nonexistent</td>\n",
       "      <td>no</td>\n",
       "      <td>03/06/2008</td>\n",
       "    </tr>\n",
       "    <tr>\n",
       "      <th>2</th>\n",
       "      <td>25436</td>\n",
       "      <td>cellular</td>\n",
       "      <td>107.0</td>\n",
       "      <td>13.0</td>\n",
       "      <td>999</td>\n",
       "      <td>nonexistent</td>\n",
       "      <td>no</td>\n",
       "      <td>16/07/2008</td>\n",
       "    </tr>\n",
       "    <tr>\n",
       "      <th>3</th>\n",
       "      <td>39633</td>\n",
       "      <td>cellular</td>\n",
       "      <td>311.0</td>\n",
       "      <td>1.0</td>\n",
       "      <td>999</td>\n",
       "      <td>nonexistent</td>\n",
       "      <td>no</td>\n",
       "      <td>15/07/2008</td>\n",
       "    </tr>\n",
       "    <tr>\n",
       "      <th>4</th>\n",
       "      <td>92803</td>\n",
       "      <td>cellular</td>\n",
       "      <td>51.0</td>\n",
       "      <td>1.0</td>\n",
       "      <td>999</td>\n",
       "      <td>nonexistent</td>\n",
       "      <td>no</td>\n",
       "      <td>09/11/2008</td>\n",
       "    </tr>\n",
       "    <tr>\n",
       "      <th>...</th>\n",
       "      <td>...</td>\n",
       "      <td>...</td>\n",
       "      <td>...</td>\n",
       "      <td>...</td>\n",
       "      <td>...</td>\n",
       "      <td>...</td>\n",
       "      <td>...</td>\n",
       "      <td>...</td>\n",
       "    </tr>\n",
       "    <tr>\n",
       "      <th>41183</th>\n",
       "      <td>56044</td>\n",
       "      <td>cellular</td>\n",
       "      <td>282.0</td>\n",
       "      <td>1.0</td>\n",
       "      <td>999</td>\n",
       "      <td>nonexistent</td>\n",
       "      <td>yes</td>\n",
       "      <td>30/08/2009</td>\n",
       "    </tr>\n",
       "    <tr>\n",
       "      <th>41184</th>\n",
       "      <td>24556</td>\n",
       "      <td>telephone</td>\n",
       "      <td>1297.0</td>\n",
       "      <td>3.0</td>\n",
       "      <td>999</td>\n",
       "      <td>nonexistent</td>\n",
       "      <td>yes</td>\n",
       "      <td>11/05/2008</td>\n",
       "    </tr>\n",
       "    <tr>\n",
       "      <th>41185</th>\n",
       "      <td>15097</td>\n",
       "      <td>cellular</td>\n",
       "      <td>178.0</td>\n",
       "      <td>5.0</td>\n",
       "      <td>999</td>\n",
       "      <td>nonexistent</td>\n",
       "      <td>no</td>\n",
       "      <td>26/04/2009</td>\n",
       "    </tr>\n",
       "    <tr>\n",
       "      <th>41186</th>\n",
       "      <td>2365</td>\n",
       "      <td>cellular</td>\n",
       "      <td>219.0</td>\n",
       "      <td>2.0</td>\n",
       "      <td>999</td>\n",
       "      <td>nonexistent</td>\n",
       "      <td>no</td>\n",
       "      <td>14/05/2009</td>\n",
       "    </tr>\n",
       "    <tr>\n",
       "      <th>41187</th>\n",
       "      <td>23349</td>\n",
       "      <td>telephone</td>\n",
       "      <td>534.0</td>\n",
       "      <td>1.0</td>\n",
       "      <td>999</td>\n",
       "      <td>nonexistent</td>\n",
       "      <td>no</td>\n",
       "      <td>20/04/2009</td>\n",
       "    </tr>\n",
       "  </tbody>\n",
       "</table>\n",
       "<p>41188 rows × 8 columns</p>\n",
       "</div>"
      ],
      "text/plain": [
       "       cust_id contact_type  duration  contact_num  p_days    p_outcome    y  \\\n",
       "0        44715     cellular     108.0          2.0     999  nonexistent   no   \n",
       "1        62194    telephone     422.0          5.0     999  nonexistent   no   \n",
       "2        25436     cellular     107.0         13.0     999  nonexistent   no   \n",
       "3        39633     cellular     311.0          1.0     999  nonexistent   no   \n",
       "4        92803     cellular      51.0          1.0     999  nonexistent   no   \n",
       "...        ...          ...       ...          ...     ...          ...  ...   \n",
       "41183    56044     cellular     282.0          1.0     999  nonexistent  yes   \n",
       "41184    24556    telephone    1297.0          3.0     999  nonexistent  yes   \n",
       "41185    15097     cellular     178.0          5.0     999  nonexistent   no   \n",
       "41186     2365     cellular     219.0          2.0     999  nonexistent   no   \n",
       "41187    23349    telephone     534.0          1.0     999  nonexistent   no   \n",
       "\n",
       "             date  \n",
       "0      02/08/2008  \n",
       "1      03/06/2008  \n",
       "2      16/07/2008  \n",
       "3      15/07/2008  \n",
       "4      09/11/2008  \n",
       "...           ...  \n",
       "41183  30/08/2009  \n",
       "41184  11/05/2008  \n",
       "41185  26/04/2009  \n",
       "41186  14/05/2009  \n",
       "41187  20/04/2009  \n",
       "\n",
       "[41188 rows x 8 columns]"
      ]
     },
     "execution_count": 5,
     "metadata": {},
     "output_type": "execute_result"
    }
   ],
   "source": [
    "contact = pd.read_csv('/workspaces/MARKETING_CAMPAIGN_ANALYSIS/contact_v2.csv')\n",
    "contact"
   ]
  },
  {
   "cell_type": "markdown",
   "metadata": {},
   "source": [
    "# Data Overview\n"
   ]
  },
  {
   "cell_type": "markdown",
   "metadata": {},
   "source": [
    "### Client Data: Cust"
   ]
  },
  {
   "cell_type": "code",
   "execution_count": 6,
   "metadata": {},
   "outputs": [
    {
     "name": "stdout",
     "output_type": "stream",
     "text": [
      "(42188, 8)\n"
     ]
    }
   ],
   "source": [
    "print(cust.shape)"
   ]
  },
  {
   "cell_type": "code",
   "execution_count": 7,
   "metadata": {},
   "outputs": [
    {
     "name": "stdout",
     "output_type": "stream",
     "text": [
      "Index(['cust_id', 'age', 'job', 'marital', 'education', 'default', 'mortgage',\n",
      "       'loan'],\n",
      "      dtype='object')\n"
     ]
    }
   ],
   "source": [
    "print(cust.columns)"
   ]
  },
  {
   "cell_type": "code",
   "execution_count": 8,
   "metadata": {},
   "outputs": [
    {
     "data": {
      "text/plain": [
       "cust_id        int64\n",
       "age          float64\n",
       "job           object\n",
       "marital       object\n",
       "education     object\n",
       "default       object\n",
       "mortgage      object\n",
       "loan          object\n",
       "dtype: object"
      ]
     },
     "execution_count": 8,
     "metadata": {},
     "output_type": "execute_result"
    }
   ],
   "source": [
    "cust.dtypes"
   ]
  },
  {
   "cell_type": "code",
   "execution_count": 9,
   "metadata": {},
   "outputs": [
    {
     "data": {
      "text/html": [
       "<div>\n",
       "<style scoped>\n",
       "    .dataframe tbody tr th:only-of-type {\n",
       "        vertical-align: middle;\n",
       "    }\n",
       "\n",
       "    .dataframe tbody tr th {\n",
       "        vertical-align: top;\n",
       "    }\n",
       "\n",
       "    .dataframe thead th {\n",
       "        text-align: right;\n",
       "    }\n",
       "</style>\n",
       "<table border=\"1\" class=\"dataframe\">\n",
       "  <thead>\n",
       "    <tr style=\"text-align: right;\">\n",
       "      <th></th>\n",
       "      <th>cust_id</th>\n",
       "      <th>age</th>\n",
       "    </tr>\n",
       "  </thead>\n",
       "  <tbody>\n",
       "    <tr>\n",
       "      <th>count</th>\n",
       "      <td>42188.000000</td>\n",
       "      <td>42153.000000</td>\n",
       "    </tr>\n",
       "    <tr>\n",
       "      <th>mean</th>\n",
       "      <td>51184.983668</td>\n",
       "      <td>40.079805</td>\n",
       "    </tr>\n",
       "    <tr>\n",
       "      <th>std</th>\n",
       "      <td>29730.013547</td>\n",
       "      <td>10.388379</td>\n",
       "    </tr>\n",
       "    <tr>\n",
       "      <th>min</th>\n",
       "      <td>2.000000</td>\n",
       "      <td>17.000000</td>\n",
       "    </tr>\n",
       "    <tr>\n",
       "      <th>25%</th>\n",
       "      <td>25483.250000</td>\n",
       "      <td>32.000000</td>\n",
       "    </tr>\n",
       "    <tr>\n",
       "      <th>50%</th>\n",
       "      <td>50966.500000</td>\n",
       "      <td>38.000000</td>\n",
       "    </tr>\n",
       "    <tr>\n",
       "      <th>75%</th>\n",
       "      <td>76751.500000</td>\n",
       "      <td>47.000000</td>\n",
       "    </tr>\n",
       "    <tr>\n",
       "      <th>max</th>\n",
       "      <td>109988.000000</td>\n",
       "      <td>98.000000</td>\n",
       "    </tr>\n",
       "  </tbody>\n",
       "</table>\n",
       "</div>"
      ],
      "text/plain": [
       "             cust_id           age\n",
       "count   42188.000000  42153.000000\n",
       "mean    51184.983668     40.079805\n",
       "std     29730.013547     10.388379\n",
       "min         2.000000     17.000000\n",
       "25%     25483.250000     32.000000\n",
       "50%     50966.500000     38.000000\n",
       "75%     76751.500000     47.000000\n",
       "max    109988.000000     98.000000"
      ]
     },
     "execution_count": 9,
     "metadata": {},
     "output_type": "execute_result"
    }
   ],
   "source": [
    "cust.describe()"
   ]
  },
  {
   "cell_type": "markdown",
   "metadata": {},
   "source": [
    "### Historical campaign results: Contact"
   ]
  },
  {
   "cell_type": "code",
   "execution_count": 10,
   "metadata": {},
   "outputs": [
    {
     "name": "stdout",
     "output_type": "stream",
     "text": [
      "(41188, 8)\n"
     ]
    }
   ],
   "source": [
    "print(contact.shape)"
   ]
  },
  {
   "cell_type": "code",
   "execution_count": 11,
   "metadata": {},
   "outputs": [
    {
     "name": "stdout",
     "output_type": "stream",
     "text": [
      "Index(['cust_id', 'contact_type', 'duration', 'contact_num', 'p_days',\n",
      "       'p_outcome', 'y', 'date'],\n",
      "      dtype='object')\n"
     ]
    }
   ],
   "source": [
    "print(contact.columns)"
   ]
  },
  {
   "cell_type": "code",
   "execution_count": 12,
   "metadata": {},
   "outputs": [
    {
     "data": {
      "text/plain": [
       "cust_id           int64\n",
       "contact_type     object\n",
       "duration        float64\n",
       "contact_num     float64\n",
       "p_days            int64\n",
       "p_outcome        object\n",
       "y                object\n",
       "date             object\n",
       "dtype: object"
      ]
     },
     "execution_count": 12,
     "metadata": {},
     "output_type": "execute_result"
    }
   ],
   "source": [
    "contact.dtypes"
   ]
  },
  {
   "cell_type": "code",
   "execution_count": 13,
   "metadata": {},
   "outputs": [
    {
     "data": {
      "text/html": [
       "<div>\n",
       "<style scoped>\n",
       "    .dataframe tbody tr th:only-of-type {\n",
       "        vertical-align: middle;\n",
       "    }\n",
       "\n",
       "    .dataframe tbody tr th {\n",
       "        vertical-align: top;\n",
       "    }\n",
       "\n",
       "    .dataframe thead th {\n",
       "        text-align: right;\n",
       "    }\n",
       "</style>\n",
       "<table border=\"1\" class=\"dataframe\">\n",
       "  <thead>\n",
       "    <tr style=\"text-align: right;\">\n",
       "      <th></th>\n",
       "      <th>cust_id</th>\n",
       "      <th>duration</th>\n",
       "      <th>contact_num</th>\n",
       "      <th>p_days</th>\n",
       "    </tr>\n",
       "  </thead>\n",
       "  <tbody>\n",
       "    <tr>\n",
       "      <th>count</th>\n",
       "      <td>41188.000000</td>\n",
       "      <td>41178.000000</td>\n",
       "      <td>41179.000000</td>\n",
       "      <td>41188.000000</td>\n",
       "    </tr>\n",
       "    <tr>\n",
       "      <th>mean</th>\n",
       "      <td>49882.195955</td>\n",
       "      <td>258.289475</td>\n",
       "      <td>2.567717</td>\n",
       "      <td>962.475454</td>\n",
       "    </tr>\n",
       "    <tr>\n",
       "      <th>std</th>\n",
       "      <td>28870.956270</td>\n",
       "      <td>259.285235</td>\n",
       "      <td>2.770260</td>\n",
       "      <td>186.910907</td>\n",
       "    </tr>\n",
       "    <tr>\n",
       "      <th>min</th>\n",
       "      <td>2.000000</td>\n",
       "      <td>0.000000</td>\n",
       "      <td>1.000000</td>\n",
       "      <td>0.000000</td>\n",
       "    </tr>\n",
       "    <tr>\n",
       "      <th>25%</th>\n",
       "      <td>24897.750000</td>\n",
       "      <td>102.000000</td>\n",
       "      <td>1.000000</td>\n",
       "      <td>999.000000</td>\n",
       "    </tr>\n",
       "    <tr>\n",
       "      <th>50%</th>\n",
       "      <td>49676.500000</td>\n",
       "      <td>180.000000</td>\n",
       "      <td>2.000000</td>\n",
       "      <td>999.000000</td>\n",
       "    </tr>\n",
       "    <tr>\n",
       "      <th>75%</th>\n",
       "      <td>74895.500000</td>\n",
       "      <td>319.000000</td>\n",
       "      <td>3.000000</td>\n",
       "      <td>999.000000</td>\n",
       "    </tr>\n",
       "    <tr>\n",
       "      <th>max</th>\n",
       "      <td>99999.000000</td>\n",
       "      <td>4918.000000</td>\n",
       "      <td>56.000000</td>\n",
       "      <td>999.000000</td>\n",
       "    </tr>\n",
       "  </tbody>\n",
       "</table>\n",
       "</div>"
      ],
      "text/plain": [
       "            cust_id      duration   contact_num        p_days\n",
       "count  41188.000000  41178.000000  41179.000000  41188.000000\n",
       "mean   49882.195955    258.289475      2.567717    962.475454\n",
       "std    28870.956270    259.285235      2.770260    186.910907\n",
       "min        2.000000      0.000000      1.000000      0.000000\n",
       "25%    24897.750000    102.000000      1.000000    999.000000\n",
       "50%    49676.500000    180.000000      2.000000    999.000000\n",
       "75%    74895.500000    319.000000      3.000000    999.000000\n",
       "max    99999.000000   4918.000000     56.000000    999.000000"
      ]
     },
     "execution_count": 13,
     "metadata": {},
     "output_type": "execute_result"
    }
   ],
   "source": [
    "contact.describe()"
   ]
  },
  {
   "cell_type": "markdown",
   "metadata": {},
   "source": [
    "#### Checking all job titles"
   ]
  },
  {
   "cell_type": "code",
   "execution_count": 14,
   "metadata": {},
   "outputs": [
    {
     "data": {
      "text/plain": [
       "array(['blue-collar', 'retired', 'services', 'admin.', 'technician',\n",
       "       'management', 'unknown', 'entrepreneur', 'student', 'housemaid',\n",
       "       'self-employed', 'unemployed', nan], dtype=object)"
      ]
     },
     "execution_count": 14,
     "metadata": {},
     "output_type": "execute_result"
    }
   ],
   "source": [
    "cust.job.unique()"
   ]
  },
  {
   "cell_type": "code",
   "execution_count": 15,
   "metadata": {},
   "outputs": [
    {
     "data": {
      "text/plain": [
       "job\n",
       "admin.           10620\n",
       "blue-collar       9513\n",
       "technician        6883\n",
       "services          4090\n",
       "management        3006\n",
       "retired           1747\n",
       "entrepreneur      1492\n",
       "self-employed     1446\n",
       "housemaid         1094\n",
       "unemployed        1032\n",
       "student            884\n",
       "unknown            349\n",
       "Name: count, dtype: int64"
      ]
     },
     "execution_count": 15,
     "metadata": {},
     "output_type": "execute_result"
    }
   ],
   "source": [
    "cust.job.value_counts()"
   ]
  },
  {
   "cell_type": "markdown",
   "metadata": {},
   "source": [
    "### Joining Data"
   ]
  },
  {
   "cell_type": "code",
   "execution_count": 16,
   "metadata": {},
   "outputs": [
    {
     "data": {
      "text/html": [
       "<div>\n",
       "<style scoped>\n",
       "    .dataframe tbody tr th:only-of-type {\n",
       "        vertical-align: middle;\n",
       "    }\n",
       "\n",
       "    .dataframe tbody tr th {\n",
       "        vertical-align: top;\n",
       "    }\n",
       "\n",
       "    .dataframe thead th {\n",
       "        text-align: right;\n",
       "    }\n",
       "</style>\n",
       "<table border=\"1\" class=\"dataframe\">\n",
       "  <thead>\n",
       "    <tr style=\"text-align: right;\">\n",
       "      <th></th>\n",
       "      <th>cust_id</th>\n",
       "      <th>age</th>\n",
       "      <th>job</th>\n",
       "      <th>marital</th>\n",
       "      <th>education</th>\n",
       "      <th>default</th>\n",
       "      <th>mortgage</th>\n",
       "      <th>loan</th>\n",
       "      <th>contact_type</th>\n",
       "      <th>duration</th>\n",
       "      <th>contact_num</th>\n",
       "      <th>p_days</th>\n",
       "      <th>p_outcome</th>\n",
       "      <th>y</th>\n",
       "      <th>date</th>\n",
       "    </tr>\n",
       "  </thead>\n",
       "  <tbody>\n",
       "    <tr>\n",
       "      <th>0</th>\n",
       "      <td>78339</td>\n",
       "      <td>48.0</td>\n",
       "      <td>blue-collar</td>\n",
       "      <td>married</td>\n",
       "      <td>basic.6y</td>\n",
       "      <td>no</td>\n",
       "      <td>yes</td>\n",
       "      <td>no</td>\n",
       "      <td>cellular</td>\n",
       "      <td>862.0</td>\n",
       "      <td>3.0</td>\n",
       "      <td>999</td>\n",
       "      <td>nonexistent</td>\n",
       "      <td>yes</td>\n",
       "      <td>10/05/2009</td>\n",
       "    </tr>\n",
       "    <tr>\n",
       "      <th>1</th>\n",
       "      <td>94962</td>\n",
       "      <td>68.0</td>\n",
       "      <td>retired</td>\n",
       "      <td>married</td>\n",
       "      <td>university.degree</td>\n",
       "      <td>no</td>\n",
       "      <td>yes</td>\n",
       "      <td>no</td>\n",
       "      <td>cellular</td>\n",
       "      <td>546.0</td>\n",
       "      <td>2.0</td>\n",
       "      <td>999</td>\n",
       "      <td>failure</td>\n",
       "      <td>yes</td>\n",
       "      <td>25/07/2010</td>\n",
       "    </tr>\n",
       "    <tr>\n",
       "      <th>2</th>\n",
       "      <td>71110</td>\n",
       "      <td>45.0</td>\n",
       "      <td>services</td>\n",
       "      <td>divorced</td>\n",
       "      <td>high.school</td>\n",
       "      <td>unknown</td>\n",
       "      <td>yes</td>\n",
       "      <td>no</td>\n",
       "      <td>telephone</td>\n",
       "      <td>101.0</td>\n",
       "      <td>2.0</td>\n",
       "      <td>999</td>\n",
       "      <td>nonexistent</td>\n",
       "      <td>no</td>\n",
       "      <td>01/05/2008</td>\n",
       "    </tr>\n",
       "    <tr>\n",
       "      <th>3</th>\n",
       "      <td>97004</td>\n",
       "      <td>28.0</td>\n",
       "      <td>blue-collar</td>\n",
       "      <td>single</td>\n",
       "      <td>unknown</td>\n",
       "      <td>no</td>\n",
       "      <td>no</td>\n",
       "      <td>no</td>\n",
       "      <td>cellular</td>\n",
       "      <td>437.0</td>\n",
       "      <td>1.0</td>\n",
       "      <td>999</td>\n",
       "      <td>nonexistent</td>\n",
       "      <td>no</td>\n",
       "      <td>18/07/2008</td>\n",
       "    </tr>\n",
       "    <tr>\n",
       "      <th>4</th>\n",
       "      <td>11598</td>\n",
       "      <td>37.0</td>\n",
       "      <td>blue-collar</td>\n",
       "      <td>married</td>\n",
       "      <td>professional.course</td>\n",
       "      <td>no</td>\n",
       "      <td>no</td>\n",
       "      <td>no</td>\n",
       "      <td>cellular</td>\n",
       "      <td>188.0</td>\n",
       "      <td>1.0</td>\n",
       "      <td>999</td>\n",
       "      <td>nonexistent</td>\n",
       "      <td>no</td>\n",
       "      <td>05/04/2009</td>\n",
       "    </tr>\n",
       "    <tr>\n",
       "      <th>...</th>\n",
       "      <td>...</td>\n",
       "      <td>...</td>\n",
       "      <td>...</td>\n",
       "      <td>...</td>\n",
       "      <td>...</td>\n",
       "      <td>...</td>\n",
       "      <td>...</td>\n",
       "      <td>...</td>\n",
       "      <td>...</td>\n",
       "      <td>...</td>\n",
       "      <td>...</td>\n",
       "      <td>...</td>\n",
       "      <td>...</td>\n",
       "      <td>...</td>\n",
       "      <td>...</td>\n",
       "    </tr>\n",
       "    <tr>\n",
       "      <th>41183</th>\n",
       "      <td>56044</td>\n",
       "      <td>32.0</td>\n",
       "      <td>blue-collar</td>\n",
       "      <td>single</td>\n",
       "      <td>basic.9y</td>\n",
       "      <td>no</td>\n",
       "      <td>yes</td>\n",
       "      <td>no</td>\n",
       "      <td>cellular</td>\n",
       "      <td>282.0</td>\n",
       "      <td>1.0</td>\n",
       "      <td>999</td>\n",
       "      <td>nonexistent</td>\n",
       "      <td>yes</td>\n",
       "      <td>30/08/2009</td>\n",
       "    </tr>\n",
       "    <tr>\n",
       "      <th>41184</th>\n",
       "      <td>24556</td>\n",
       "      <td>42.0</td>\n",
       "      <td>blue-collar</td>\n",
       "      <td>married</td>\n",
       "      <td>high.school</td>\n",
       "      <td>no</td>\n",
       "      <td>no</td>\n",
       "      <td>yes</td>\n",
       "      <td>telephone</td>\n",
       "      <td>1297.0</td>\n",
       "      <td>3.0</td>\n",
       "      <td>999</td>\n",
       "      <td>nonexistent</td>\n",
       "      <td>yes</td>\n",
       "      <td>11/05/2008</td>\n",
       "    </tr>\n",
       "    <tr>\n",
       "      <th>41185</th>\n",
       "      <td>15097</td>\n",
       "      <td>54.0</td>\n",
       "      <td>technician</td>\n",
       "      <td>married</td>\n",
       "      <td>high.school</td>\n",
       "      <td>no</td>\n",
       "      <td>yes</td>\n",
       "      <td>no</td>\n",
       "      <td>cellular</td>\n",
       "      <td>178.0</td>\n",
       "      <td>5.0</td>\n",
       "      <td>999</td>\n",
       "      <td>nonexistent</td>\n",
       "      <td>no</td>\n",
       "      <td>26/04/2009</td>\n",
       "    </tr>\n",
       "    <tr>\n",
       "      <th>41186</th>\n",
       "      <td>2365</td>\n",
       "      <td>37.0</td>\n",
       "      <td>technician</td>\n",
       "      <td>married</td>\n",
       "      <td>university.degree</td>\n",
       "      <td>no</td>\n",
       "      <td>no</td>\n",
       "      <td>no</td>\n",
       "      <td>cellular</td>\n",
       "      <td>219.0</td>\n",
       "      <td>2.0</td>\n",
       "      <td>999</td>\n",
       "      <td>nonexistent</td>\n",
       "      <td>no</td>\n",
       "      <td>14/05/2009</td>\n",
       "    </tr>\n",
       "    <tr>\n",
       "      <th>41187</th>\n",
       "      <td>23349</td>\n",
       "      <td>40.0</td>\n",
       "      <td>blue-collar</td>\n",
       "      <td>married</td>\n",
       "      <td>basic.6y</td>\n",
       "      <td>unknown</td>\n",
       "      <td>yes</td>\n",
       "      <td>no</td>\n",
       "      <td>telephone</td>\n",
       "      <td>534.0</td>\n",
       "      <td>1.0</td>\n",
       "      <td>999</td>\n",
       "      <td>nonexistent</td>\n",
       "      <td>no</td>\n",
       "      <td>20/04/2009</td>\n",
       "    </tr>\n",
       "  </tbody>\n",
       "</table>\n",
       "<p>41188 rows × 15 columns</p>\n",
       "</div>"
      ],
      "text/plain": [
       "       cust_id   age          job   marital            education  default  \\\n",
       "0        78339  48.0  blue-collar   married             basic.6y       no   \n",
       "1        94962  68.0      retired   married    university.degree       no   \n",
       "2        71110  45.0     services  divorced          high.school  unknown   \n",
       "3        97004  28.0  blue-collar    single              unknown       no   \n",
       "4        11598  37.0  blue-collar   married  professional.course       no   \n",
       "...        ...   ...          ...       ...                  ...      ...   \n",
       "41183    56044  32.0  blue-collar    single             basic.9y       no   \n",
       "41184    24556  42.0  blue-collar   married          high.school       no   \n",
       "41185    15097  54.0   technician   married          high.school       no   \n",
       "41186     2365  37.0   technician   married    university.degree       no   \n",
       "41187    23349  40.0  blue-collar   married             basic.6y  unknown   \n",
       "\n",
       "      mortgage loan contact_type  duration  contact_num  p_days    p_outcome  \\\n",
       "0          yes   no     cellular     862.0          3.0     999  nonexistent   \n",
       "1          yes   no     cellular     546.0          2.0     999      failure   \n",
       "2          yes   no    telephone     101.0          2.0     999  nonexistent   \n",
       "3           no   no     cellular     437.0          1.0     999  nonexistent   \n",
       "4           no   no     cellular     188.0          1.0     999  nonexistent   \n",
       "...        ...  ...          ...       ...          ...     ...          ...   \n",
       "41183      yes   no     cellular     282.0          1.0     999  nonexistent   \n",
       "41184       no  yes    telephone    1297.0          3.0     999  nonexistent   \n",
       "41185      yes   no     cellular     178.0          5.0     999  nonexistent   \n",
       "41186       no   no     cellular     219.0          2.0     999  nonexistent   \n",
       "41187      yes   no    telephone     534.0          1.0     999  nonexistent   \n",
       "\n",
       "         y        date  \n",
       "0      yes  10/05/2009  \n",
       "1      yes  25/07/2010  \n",
       "2       no  01/05/2008  \n",
       "3       no  18/07/2008  \n",
       "4       no  05/04/2009  \n",
       "...    ...         ...  \n",
       "41183  yes  30/08/2009  \n",
       "41184  yes  11/05/2008  \n",
       "41185   no  26/04/2009  \n",
       "41186   no  14/05/2009  \n",
       "41187   no  20/04/2009  \n",
       "\n",
       "[41188 rows x 15 columns]"
      ]
     },
     "execution_count": 16,
     "metadata": {},
     "output_type": "execute_result"
    }
   ],
   "source": [
    "cmpn = pd.merge(left=cust,right=contact,how=\"inner\",left_on=\"cust_id\",right_on=\"cust_id\")\n",
    "cmpn"
   ]
  },
  {
   "cell_type": "markdown",
   "metadata": {},
   "source": [
    "#### Modifying colums"
   ]
  },
  {
   "cell_type": "code",
   "execution_count": 17,
   "metadata": {},
   "outputs": [
    {
     "data": {
      "text/html": [
       "<div>\n",
       "<style scoped>\n",
       "    .dataframe tbody tr th:only-of-type {\n",
       "        vertical-align: middle;\n",
       "    }\n",
       "\n",
       "    .dataframe tbody tr th {\n",
       "        vertical-align: top;\n",
       "    }\n",
       "\n",
       "    .dataframe thead th {\n",
       "        text-align: right;\n",
       "    }\n",
       "</style>\n",
       "<table border=\"1\" class=\"dataframe\">\n",
       "  <thead>\n",
       "    <tr style=\"text-align: right;\">\n",
       "      <th></th>\n",
       "      <th>cust_id</th>\n",
       "      <th>age</th>\n",
       "      <th>job</th>\n",
       "      <th>marital</th>\n",
       "      <th>education</th>\n",
       "      <th>default</th>\n",
       "      <th>mortgage</th>\n",
       "      <th>loan</th>\n",
       "      <th>contact_type</th>\n",
       "      <th>date</th>\n",
       "      <th>duration_mins</th>\n",
       "      <th>contact_num</th>\n",
       "      <th>p_days</th>\n",
       "      <th>p_outcome</th>\n",
       "      <th>y</th>\n",
       "    </tr>\n",
       "  </thead>\n",
       "  <tbody>\n",
       "    <tr>\n",
       "      <th>0</th>\n",
       "      <td>78339</td>\n",
       "      <td>48.0</td>\n",
       "      <td>blue-collar</td>\n",
       "      <td>married</td>\n",
       "      <td>basic.6y</td>\n",
       "      <td>no</td>\n",
       "      <td>yes</td>\n",
       "      <td>no</td>\n",
       "      <td>cellular</td>\n",
       "      <td>10/05/2009</td>\n",
       "      <td>14.366667</td>\n",
       "      <td>3.0</td>\n",
       "      <td>999</td>\n",
       "      <td>nonexistent</td>\n",
       "      <td>yes</td>\n",
       "    </tr>\n",
       "    <tr>\n",
       "      <th>1</th>\n",
       "      <td>94962</td>\n",
       "      <td>68.0</td>\n",
       "      <td>retired</td>\n",
       "      <td>married</td>\n",
       "      <td>university.degree</td>\n",
       "      <td>no</td>\n",
       "      <td>yes</td>\n",
       "      <td>no</td>\n",
       "      <td>cellular</td>\n",
       "      <td>25/07/2010</td>\n",
       "      <td>9.100000</td>\n",
       "      <td>2.0</td>\n",
       "      <td>999</td>\n",
       "      <td>failure</td>\n",
       "      <td>yes</td>\n",
       "    </tr>\n",
       "    <tr>\n",
       "      <th>2</th>\n",
       "      <td>71110</td>\n",
       "      <td>45.0</td>\n",
       "      <td>services</td>\n",
       "      <td>divorced</td>\n",
       "      <td>high.school</td>\n",
       "      <td>unknown</td>\n",
       "      <td>yes</td>\n",
       "      <td>no</td>\n",
       "      <td>telephone</td>\n",
       "      <td>01/05/2008</td>\n",
       "      <td>1.683333</td>\n",
       "      <td>2.0</td>\n",
       "      <td>999</td>\n",
       "      <td>nonexistent</td>\n",
       "      <td>no</td>\n",
       "    </tr>\n",
       "    <tr>\n",
       "      <th>3</th>\n",
       "      <td>97004</td>\n",
       "      <td>28.0</td>\n",
       "      <td>blue-collar</td>\n",
       "      <td>single</td>\n",
       "      <td>unknown</td>\n",
       "      <td>no</td>\n",
       "      <td>no</td>\n",
       "      <td>no</td>\n",
       "      <td>cellular</td>\n",
       "      <td>18/07/2008</td>\n",
       "      <td>7.283333</td>\n",
       "      <td>1.0</td>\n",
       "      <td>999</td>\n",
       "      <td>nonexistent</td>\n",
       "      <td>no</td>\n",
       "    </tr>\n",
       "    <tr>\n",
       "      <th>4</th>\n",
       "      <td>11598</td>\n",
       "      <td>37.0</td>\n",
       "      <td>blue-collar</td>\n",
       "      <td>married</td>\n",
       "      <td>professional.course</td>\n",
       "      <td>no</td>\n",
       "      <td>no</td>\n",
       "      <td>no</td>\n",
       "      <td>cellular</td>\n",
       "      <td>05/04/2009</td>\n",
       "      <td>3.133333</td>\n",
       "      <td>1.0</td>\n",
       "      <td>999</td>\n",
       "      <td>nonexistent</td>\n",
       "      <td>no</td>\n",
       "    </tr>\n",
       "    <tr>\n",
       "      <th>...</th>\n",
       "      <td>...</td>\n",
       "      <td>...</td>\n",
       "      <td>...</td>\n",
       "      <td>...</td>\n",
       "      <td>...</td>\n",
       "      <td>...</td>\n",
       "      <td>...</td>\n",
       "      <td>...</td>\n",
       "      <td>...</td>\n",
       "      <td>...</td>\n",
       "      <td>...</td>\n",
       "      <td>...</td>\n",
       "      <td>...</td>\n",
       "      <td>...</td>\n",
       "      <td>...</td>\n",
       "    </tr>\n",
       "    <tr>\n",
       "      <th>41183</th>\n",
       "      <td>56044</td>\n",
       "      <td>32.0</td>\n",
       "      <td>blue-collar</td>\n",
       "      <td>single</td>\n",
       "      <td>basic.9y</td>\n",
       "      <td>no</td>\n",
       "      <td>yes</td>\n",
       "      <td>no</td>\n",
       "      <td>cellular</td>\n",
       "      <td>30/08/2009</td>\n",
       "      <td>4.700000</td>\n",
       "      <td>1.0</td>\n",
       "      <td>999</td>\n",
       "      <td>nonexistent</td>\n",
       "      <td>yes</td>\n",
       "    </tr>\n",
       "    <tr>\n",
       "      <th>41184</th>\n",
       "      <td>24556</td>\n",
       "      <td>42.0</td>\n",
       "      <td>blue-collar</td>\n",
       "      <td>married</td>\n",
       "      <td>high.school</td>\n",
       "      <td>no</td>\n",
       "      <td>no</td>\n",
       "      <td>yes</td>\n",
       "      <td>telephone</td>\n",
       "      <td>11/05/2008</td>\n",
       "      <td>21.616667</td>\n",
       "      <td>3.0</td>\n",
       "      <td>999</td>\n",
       "      <td>nonexistent</td>\n",
       "      <td>yes</td>\n",
       "    </tr>\n",
       "    <tr>\n",
       "      <th>41185</th>\n",
       "      <td>15097</td>\n",
       "      <td>54.0</td>\n",
       "      <td>technician</td>\n",
       "      <td>married</td>\n",
       "      <td>high.school</td>\n",
       "      <td>no</td>\n",
       "      <td>yes</td>\n",
       "      <td>no</td>\n",
       "      <td>cellular</td>\n",
       "      <td>26/04/2009</td>\n",
       "      <td>2.966667</td>\n",
       "      <td>5.0</td>\n",
       "      <td>999</td>\n",
       "      <td>nonexistent</td>\n",
       "      <td>no</td>\n",
       "    </tr>\n",
       "    <tr>\n",
       "      <th>41186</th>\n",
       "      <td>2365</td>\n",
       "      <td>37.0</td>\n",
       "      <td>technician</td>\n",
       "      <td>married</td>\n",
       "      <td>university.degree</td>\n",
       "      <td>no</td>\n",
       "      <td>no</td>\n",
       "      <td>no</td>\n",
       "      <td>cellular</td>\n",
       "      <td>14/05/2009</td>\n",
       "      <td>3.650000</td>\n",
       "      <td>2.0</td>\n",
       "      <td>999</td>\n",
       "      <td>nonexistent</td>\n",
       "      <td>no</td>\n",
       "    </tr>\n",
       "    <tr>\n",
       "      <th>41187</th>\n",
       "      <td>23349</td>\n",
       "      <td>40.0</td>\n",
       "      <td>blue-collar</td>\n",
       "      <td>married</td>\n",
       "      <td>basic.6y</td>\n",
       "      <td>unknown</td>\n",
       "      <td>yes</td>\n",
       "      <td>no</td>\n",
       "      <td>telephone</td>\n",
       "      <td>20/04/2009</td>\n",
       "      <td>8.900000</td>\n",
       "      <td>1.0</td>\n",
       "      <td>999</td>\n",
       "      <td>nonexistent</td>\n",
       "      <td>no</td>\n",
       "    </tr>\n",
       "  </tbody>\n",
       "</table>\n",
       "<p>41188 rows × 15 columns</p>\n",
       "</div>"
      ],
      "text/plain": [
       "       cust_id   age          job   marital            education  default  \\\n",
       "0        78339  48.0  blue-collar   married             basic.6y       no   \n",
       "1        94962  68.0      retired   married    university.degree       no   \n",
       "2        71110  45.0     services  divorced          high.school  unknown   \n",
       "3        97004  28.0  blue-collar    single              unknown       no   \n",
       "4        11598  37.0  blue-collar   married  professional.course       no   \n",
       "...        ...   ...          ...       ...                  ...      ...   \n",
       "41183    56044  32.0  blue-collar    single             basic.9y       no   \n",
       "41184    24556  42.0  blue-collar   married          high.school       no   \n",
       "41185    15097  54.0   technician   married          high.school       no   \n",
       "41186     2365  37.0   technician   married    university.degree       no   \n",
       "41187    23349  40.0  blue-collar   married             basic.6y  unknown   \n",
       "\n",
       "      mortgage loan contact_type        date  duration_mins  contact_num  \\\n",
       "0          yes   no     cellular  10/05/2009      14.366667          3.0   \n",
       "1          yes   no     cellular  25/07/2010       9.100000          2.0   \n",
       "2          yes   no    telephone  01/05/2008       1.683333          2.0   \n",
       "3           no   no     cellular  18/07/2008       7.283333          1.0   \n",
       "4           no   no     cellular  05/04/2009       3.133333          1.0   \n",
       "...        ...  ...          ...         ...            ...          ...   \n",
       "41183      yes   no     cellular  30/08/2009       4.700000          1.0   \n",
       "41184       no  yes    telephone  11/05/2008      21.616667          3.0   \n",
       "41185      yes   no     cellular  26/04/2009       2.966667          5.0   \n",
       "41186       no   no     cellular  14/05/2009       3.650000          2.0   \n",
       "41187      yes   no    telephone  20/04/2009       8.900000          1.0   \n",
       "\n",
       "       p_days    p_outcome    y  \n",
       "0         999  nonexistent  yes  \n",
       "1         999      failure  yes  \n",
       "2         999  nonexistent   no  \n",
       "3         999  nonexistent   no  \n",
       "4         999  nonexistent   no  \n",
       "...       ...          ...  ...  \n",
       "41183     999  nonexistent  yes  \n",
       "41184     999  nonexistent  yes  \n",
       "41185     999  nonexistent   no  \n",
       "41186     999  nonexistent   no  \n",
       "41187     999  nonexistent   no  \n",
       "\n",
       "[41188 rows x 15 columns]"
      ]
     },
     "execution_count": 17,
     "metadata": {},
     "output_type": "execute_result"
    }
   ],
   "source": [
    "cmpn['duration_mins'] = cmpn.duration / 60\n",
    "col = ['cust_id','age','job','marital','education','default','mortgage','loan',\n",
    "       'contact_type','date','duration_mins','contact_num','p_days','p_outcome','y']\n",
    "cmpn = cmpn[col]\n",
    "cmpn"
   ]
  },
  {
   "cell_type": "markdown",
   "metadata": {},
   "source": [
    "### Data Preperation"
   ]
  },
  {
   "cell_type": "code",
   "execution_count": 18,
   "metadata": {},
   "outputs": [
    {
     "data": {
      "text/html": [
       "<div>\n",
       "<style scoped>\n",
       "    .dataframe tbody tr th:only-of-type {\n",
       "        vertical-align: middle;\n",
       "    }\n",
       "\n",
       "    .dataframe tbody tr th {\n",
       "        vertical-align: top;\n",
       "    }\n",
       "\n",
       "    .dataframe thead th {\n",
       "        text-align: right;\n",
       "    }\n",
       "</style>\n",
       "<table border=\"1\" class=\"dataframe\">\n",
       "  <thead>\n",
       "    <tr style=\"text-align: right;\">\n",
       "      <th></th>\n",
       "      <th>cust_id</th>\n",
       "      <th>age</th>\n",
       "      <th>job</th>\n",
       "      <th>marital</th>\n",
       "      <th>education</th>\n",
       "      <th>default</th>\n",
       "      <th>mortgage</th>\n",
       "      <th>loan</th>\n",
       "      <th>contact_type</th>\n",
       "      <th>duration_mins</th>\n",
       "      <th>contact_num</th>\n",
       "      <th>p_days</th>\n",
       "      <th>p_outcome</th>\n",
       "      <th>y_int</th>\n",
       "    </tr>\n",
       "  </thead>\n",
       "  <tbody>\n",
       "    <tr>\n",
       "      <th>0</th>\n",
       "      <td>78339</td>\n",
       "      <td>48.0</td>\n",
       "      <td>blue-collar</td>\n",
       "      <td>married</td>\n",
       "      <td>basic.6y</td>\n",
       "      <td>no</td>\n",
       "      <td>yes</td>\n",
       "      <td>no</td>\n",
       "      <td>cellular</td>\n",
       "      <td>14.366667</td>\n",
       "      <td>3.0</td>\n",
       "      <td>999</td>\n",
       "      <td>nonexistent</td>\n",
       "      <td>1.0</td>\n",
       "    </tr>\n",
       "    <tr>\n",
       "      <th>1</th>\n",
       "      <td>94962</td>\n",
       "      <td>68.0</td>\n",
       "      <td>retired</td>\n",
       "      <td>married</td>\n",
       "      <td>university.degree</td>\n",
       "      <td>no</td>\n",
       "      <td>yes</td>\n",
       "      <td>no</td>\n",
       "      <td>cellular</td>\n",
       "      <td>9.100000</td>\n",
       "      <td>2.0</td>\n",
       "      <td>999</td>\n",
       "      <td>failure</td>\n",
       "      <td>1.0</td>\n",
       "    </tr>\n",
       "    <tr>\n",
       "      <th>2</th>\n",
       "      <td>71110</td>\n",
       "      <td>45.0</td>\n",
       "      <td>services</td>\n",
       "      <td>divorced</td>\n",
       "      <td>high.school</td>\n",
       "      <td>unknown</td>\n",
       "      <td>yes</td>\n",
       "      <td>no</td>\n",
       "      <td>telephone</td>\n",
       "      <td>1.683333</td>\n",
       "      <td>2.0</td>\n",
       "      <td>999</td>\n",
       "      <td>nonexistent</td>\n",
       "      <td>0.0</td>\n",
       "    </tr>\n",
       "    <tr>\n",
       "      <th>3</th>\n",
       "      <td>97004</td>\n",
       "      <td>28.0</td>\n",
       "      <td>blue-collar</td>\n",
       "      <td>single</td>\n",
       "      <td>unknown</td>\n",
       "      <td>no</td>\n",
       "      <td>no</td>\n",
       "      <td>no</td>\n",
       "      <td>cellular</td>\n",
       "      <td>7.283333</td>\n",
       "      <td>1.0</td>\n",
       "      <td>999</td>\n",
       "      <td>nonexistent</td>\n",
       "      <td>0.0</td>\n",
       "    </tr>\n",
       "    <tr>\n",
       "      <th>4</th>\n",
       "      <td>11598</td>\n",
       "      <td>37.0</td>\n",
       "      <td>blue-collar</td>\n",
       "      <td>married</td>\n",
       "      <td>professional.course</td>\n",
       "      <td>no</td>\n",
       "      <td>no</td>\n",
       "      <td>no</td>\n",
       "      <td>cellular</td>\n",
       "      <td>3.133333</td>\n",
       "      <td>1.0</td>\n",
       "      <td>999</td>\n",
       "      <td>nonexistent</td>\n",
       "      <td>0.0</td>\n",
       "    </tr>\n",
       "    <tr>\n",
       "      <th>...</th>\n",
       "      <td>...</td>\n",
       "      <td>...</td>\n",
       "      <td>...</td>\n",
       "      <td>...</td>\n",
       "      <td>...</td>\n",
       "      <td>...</td>\n",
       "      <td>...</td>\n",
       "      <td>...</td>\n",
       "      <td>...</td>\n",
       "      <td>...</td>\n",
       "      <td>...</td>\n",
       "      <td>...</td>\n",
       "      <td>...</td>\n",
       "      <td>...</td>\n",
       "    </tr>\n",
       "    <tr>\n",
       "      <th>41183</th>\n",
       "      <td>56044</td>\n",
       "      <td>32.0</td>\n",
       "      <td>blue-collar</td>\n",
       "      <td>single</td>\n",
       "      <td>basic.9y</td>\n",
       "      <td>no</td>\n",
       "      <td>yes</td>\n",
       "      <td>no</td>\n",
       "      <td>cellular</td>\n",
       "      <td>4.700000</td>\n",
       "      <td>1.0</td>\n",
       "      <td>999</td>\n",
       "      <td>nonexistent</td>\n",
       "      <td>1.0</td>\n",
       "    </tr>\n",
       "    <tr>\n",
       "      <th>41184</th>\n",
       "      <td>24556</td>\n",
       "      <td>42.0</td>\n",
       "      <td>blue-collar</td>\n",
       "      <td>married</td>\n",
       "      <td>high.school</td>\n",
       "      <td>no</td>\n",
       "      <td>no</td>\n",
       "      <td>yes</td>\n",
       "      <td>telephone</td>\n",
       "      <td>21.616667</td>\n",
       "      <td>3.0</td>\n",
       "      <td>999</td>\n",
       "      <td>nonexistent</td>\n",
       "      <td>1.0</td>\n",
       "    </tr>\n",
       "    <tr>\n",
       "      <th>41185</th>\n",
       "      <td>15097</td>\n",
       "      <td>54.0</td>\n",
       "      <td>technician</td>\n",
       "      <td>married</td>\n",
       "      <td>high.school</td>\n",
       "      <td>no</td>\n",
       "      <td>yes</td>\n",
       "      <td>no</td>\n",
       "      <td>cellular</td>\n",
       "      <td>2.966667</td>\n",
       "      <td>5.0</td>\n",
       "      <td>999</td>\n",
       "      <td>nonexistent</td>\n",
       "      <td>0.0</td>\n",
       "    </tr>\n",
       "    <tr>\n",
       "      <th>41186</th>\n",
       "      <td>2365</td>\n",
       "      <td>37.0</td>\n",
       "      <td>technician</td>\n",
       "      <td>married</td>\n",
       "      <td>university.degree</td>\n",
       "      <td>no</td>\n",
       "      <td>no</td>\n",
       "      <td>no</td>\n",
       "      <td>cellular</td>\n",
       "      <td>3.650000</td>\n",
       "      <td>2.0</td>\n",
       "      <td>999</td>\n",
       "      <td>nonexistent</td>\n",
       "      <td>0.0</td>\n",
       "    </tr>\n",
       "    <tr>\n",
       "      <th>41187</th>\n",
       "      <td>23349</td>\n",
       "      <td>40.0</td>\n",
       "      <td>blue-collar</td>\n",
       "      <td>married</td>\n",
       "      <td>basic.6y</td>\n",
       "      <td>unknown</td>\n",
       "      <td>yes</td>\n",
       "      <td>no</td>\n",
       "      <td>telephone</td>\n",
       "      <td>8.900000</td>\n",
       "      <td>1.0</td>\n",
       "      <td>999</td>\n",
       "      <td>nonexistent</td>\n",
       "      <td>0.0</td>\n",
       "    </tr>\n",
       "  </tbody>\n",
       "</table>\n",
       "<p>41188 rows × 14 columns</p>\n",
       "</div>"
      ],
      "text/plain": [
       "       cust_id   age          job   marital            education  default  \\\n",
       "0        78339  48.0  blue-collar   married             basic.6y       no   \n",
       "1        94962  68.0      retired   married    university.degree       no   \n",
       "2        71110  45.0     services  divorced          high.school  unknown   \n",
       "3        97004  28.0  blue-collar    single              unknown       no   \n",
       "4        11598  37.0  blue-collar   married  professional.course       no   \n",
       "...        ...   ...          ...       ...                  ...      ...   \n",
       "41183    56044  32.0  blue-collar    single             basic.9y       no   \n",
       "41184    24556  42.0  blue-collar   married          high.school       no   \n",
       "41185    15097  54.0   technician   married          high.school       no   \n",
       "41186     2365  37.0   technician   married    university.degree       no   \n",
       "41187    23349  40.0  blue-collar   married             basic.6y  unknown   \n",
       "\n",
       "      mortgage loan contact_type  duration_mins  contact_num  p_days  \\\n",
       "0          yes   no     cellular      14.366667          3.0     999   \n",
       "1          yes   no     cellular       9.100000          2.0     999   \n",
       "2          yes   no    telephone       1.683333          2.0     999   \n",
       "3           no   no     cellular       7.283333          1.0     999   \n",
       "4           no   no     cellular       3.133333          1.0     999   \n",
       "...        ...  ...          ...            ...          ...     ...   \n",
       "41183      yes   no     cellular       4.700000          1.0     999   \n",
       "41184       no  yes    telephone      21.616667          3.0     999   \n",
       "41185      yes   no     cellular       2.966667          5.0     999   \n",
       "41186       no   no     cellular       3.650000          2.0     999   \n",
       "41187      yes   no    telephone       8.900000          1.0     999   \n",
       "\n",
       "         p_outcome  y_int  \n",
       "0      nonexistent    1.0  \n",
       "1          failure    1.0  \n",
       "2      nonexistent    0.0  \n",
       "3      nonexistent    0.0  \n",
       "4      nonexistent    0.0  \n",
       "...            ...    ...  \n",
       "41183  nonexistent    1.0  \n",
       "41184  nonexistent    1.0  \n",
       "41185  nonexistent    0.0  \n",
       "41186  nonexistent    0.0  \n",
       "41187  nonexistent    0.0  \n",
       "\n",
       "[41188 rows x 14 columns]"
      ]
     },
     "execution_count": 18,
     "metadata": {},
     "output_type": "execute_result"
    }
   ],
   "source": [
    "#create a copy of cmpn\n",
    "df = cmpn.copy()\n",
    "df\n",
    "\n",
    "# Change the outcome to binary\n",
    "df.loc[df.y=='yes',\"y_int\"] = 1\n",
    "df.loc[df.y=='no',\"y_int\"] = 0\n",
    "\n",
    "df = df.drop(columns=['y','date'])\n",
    "df"
   ]
  },
  {
   "cell_type": "markdown",
   "metadata": {},
   "source": [
    "#### Seperating Categoric and Numeric variables"
   ]
  },
  {
   "cell_type": "code",
   "execution_count": 19,
   "metadata": {},
   "outputs": [
    {
     "name": "stdout",
     "output_type": "stream",
     "text": [
      "['job', 'marital', 'education', 'default', 'mortgage', 'loan', 'contact_type', 'p_outcome', 'y']\n",
      "['age', 'duration_mins', 'contact_num', 'p_days']\n"
     ]
    }
   ],
   "source": [
    "#Storing Cateforic and Numeric variables in lists\n",
    "var_char = cmpn.dtypes[cmpn.dtypes == 'object'].index.tolist()\n",
    "var_num = cmpn.dtypes[cmpn.dtypes != 'object'].index.tolist()\n",
    "var_key = ['cust_id','date']\n",
    "    \n",
    "for i in var_key:\n",
    "    if (i in var_num):\n",
    "        var_num.remove(i)\n",
    "    if (i in var_char):\n",
    "        var_char.remove(i)\n",
    "        \n",
    "print(var_char)\n",
    "print(var_num)"
   ]
  },
  {
   "cell_type": "code",
   "execution_count": 20,
   "metadata": {},
   "outputs": [],
   "source": [
    "#Storing Categoric and Numeric and Key in dataframe to prepare for model\n",
    "cmpn_char = cmpn[var_char]\n",
    "cmpn_num = cmpn[var_num]\n",
    "cmpn_key = cmpn[var_key]"
   ]
  },
  {
   "cell_type": "markdown",
   "metadata": {},
   "source": [
    "#### Checking Nulls and Duplicates"
   ]
  },
  {
   "cell_type": "markdown",
   "metadata": {},
   "source": [
    "##### Duplicate Check"
   ]
  },
  {
   "cell_type": "markdown",
   "metadata": {},
   "source": [
    "There are no duplicate entries present in this dataset"
   ]
  },
  {
   "cell_type": "code",
   "execution_count": 21,
   "metadata": {},
   "outputs": [
    {
     "name": "stdout",
     "output_type": "stream",
     "text": [
      "(41188, 15)\n",
      "(41188, 15)\n"
     ]
    }
   ],
   "source": [
    "print(cmpn.shape)\n",
    "cmpn=cmpn.drop_duplicates()\n",
    "print(cmpn.shape)"
   ]
  },
  {
   "cell_type": "markdown",
   "metadata": {},
   "source": [
    "##### Null Check"
   ]
  },
  {
   "cell_type": "markdown",
   "metadata": {},
   "source": [
    "Based on the analysis, it's determined that the proportion of missing values within each variable is less than 1%. Additionally, the total number of rows containing null values comprises only 0.54% of the dataset. Given that this percentage is significantly lower than the 5% threshold, it is deemed acceptable to remove these rows from the dataset."
   ]
  },
  {
   "cell_type": "code",
   "execution_count": 22,
   "metadata": {},
   "outputs": [
    {
     "data": {
      "text/html": [
       "<div>\n",
       "<style scoped>\n",
       "    .dataframe tbody tr th:only-of-type {\n",
       "        vertical-align: middle;\n",
       "    }\n",
       "\n",
       "    .dataframe tbody tr th {\n",
       "        vertical-align: top;\n",
       "    }\n",
       "\n",
       "    .dataframe thead th {\n",
       "        text-align: right;\n",
       "    }\n",
       "</style>\n",
       "<table border=\"1\" class=\"dataframe\">\n",
       "  <thead>\n",
       "    <tr style=\"text-align: right;\">\n",
       "      <th></th>\n",
       "      <th>variable</th>\n",
       "      <th>missing count</th>\n",
       "      <th>missing rate %</th>\n",
       "    </tr>\n",
       "  </thead>\n",
       "  <tbody>\n",
       "    <tr>\n",
       "      <th>0</th>\n",
       "      <td>cust_id</td>\n",
       "      <td>0</td>\n",
       "      <td>0.000000</td>\n",
       "    </tr>\n",
       "    <tr>\n",
       "      <th>1</th>\n",
       "      <td>age</td>\n",
       "      <td>35</td>\n",
       "      <td>0.084976</td>\n",
       "    </tr>\n",
       "    <tr>\n",
       "      <th>2</th>\n",
       "      <td>job</td>\n",
       "      <td>32</td>\n",
       "      <td>0.077693</td>\n",
       "    </tr>\n",
       "    <tr>\n",
       "      <th>3</th>\n",
       "      <td>marital</td>\n",
       "      <td>17</td>\n",
       "      <td>0.041274</td>\n",
       "    </tr>\n",
       "    <tr>\n",
       "      <th>4</th>\n",
       "      <td>education</td>\n",
       "      <td>42</td>\n",
       "      <td>0.101971</td>\n",
       "    </tr>\n",
       "    <tr>\n",
       "      <th>5</th>\n",
       "      <td>default</td>\n",
       "      <td>0</td>\n",
       "      <td>0.000000</td>\n",
       "    </tr>\n",
       "    <tr>\n",
       "      <th>6</th>\n",
       "      <td>mortgage</td>\n",
       "      <td>0</td>\n",
       "      <td>0.000000</td>\n",
       "    </tr>\n",
       "    <tr>\n",
       "      <th>7</th>\n",
       "      <td>loan</td>\n",
       "      <td>49</td>\n",
       "      <td>0.118967</td>\n",
       "    </tr>\n",
       "    <tr>\n",
       "      <th>8</th>\n",
       "      <td>contact_type</td>\n",
       "      <td>15</td>\n",
       "      <td>0.036418</td>\n",
       "    </tr>\n",
       "    <tr>\n",
       "      <th>9</th>\n",
       "      <td>duration_mins</td>\n",
       "      <td>10</td>\n",
       "      <td>0.024279</td>\n",
       "    </tr>\n",
       "    <tr>\n",
       "      <th>10</th>\n",
       "      <td>contact_num</td>\n",
       "      <td>9</td>\n",
       "      <td>0.021851</td>\n",
       "    </tr>\n",
       "    <tr>\n",
       "      <th>11</th>\n",
       "      <td>p_days</td>\n",
       "      <td>0</td>\n",
       "      <td>0.000000</td>\n",
       "    </tr>\n",
       "    <tr>\n",
       "      <th>12</th>\n",
       "      <td>p_outcome</td>\n",
       "      <td>13</td>\n",
       "      <td>0.031563</td>\n",
       "    </tr>\n",
       "    <tr>\n",
       "      <th>13</th>\n",
       "      <td>y_int</td>\n",
       "      <td>0</td>\n",
       "      <td>0.000000</td>\n",
       "    </tr>\n",
       "  </tbody>\n",
       "</table>\n",
       "</div>"
      ],
      "text/plain": [
       "         variable  missing count  missing rate %\n",
       "0         cust_id              0        0.000000\n",
       "1             age             35        0.084976\n",
       "2             job             32        0.077693\n",
       "3         marital             17        0.041274\n",
       "4       education             42        0.101971\n",
       "5         default              0        0.000000\n",
       "6        mortgage              0        0.000000\n",
       "7            loan             49        0.118967\n",
       "8    contact_type             15        0.036418\n",
       "9   duration_mins             10        0.024279\n",
       "10    contact_num              9        0.021851\n",
       "11         p_days              0        0.000000\n",
       "12      p_outcome             13        0.031563\n",
       "13          y_int              0        0.000000"
      ]
     },
     "execution_count": 22,
     "metadata": {},
     "output_type": "execute_result"
    }
   ],
   "source": [
    "#Calculating the missing rate\n",
    "missing_count = df.isna().sum()\n",
    "missing_rate = (missing_count / df.shape[0])*100\n",
    "\n",
    "#Concatenate the missing rate into a dataframe\n",
    "missing_summary = pd.concat([missing_count,missing_rate],axis=1).reset_index()\n",
    "missing_summary.columns = [\"variable\",\"missing count\",\"missing rate %\"]\n",
    "missing_summary"
   ]
  },
  {
   "cell_type": "code",
   "execution_count": 23,
   "metadata": {},
   "outputs": [
    {
     "data": {
      "text/plain": [
       "0.5389919393998244"
      ]
     },
     "execution_count": 23,
     "metadata": {},
     "output_type": "execute_result"
    }
   ],
   "source": [
    "#Checking total percentage of Null values account for in the data set\n",
    "check_remove_null = df.copy()\n",
    "(1- (len(check_remove_null.dropna()) / len(cmpn)))*100"
   ]
  },
  {
   "cell_type": "code",
   "execution_count": 24,
   "metadata": {},
   "outputs": [
    {
     "data": {
      "text/plain": [
       "cust_id          0\n",
       "age              0\n",
       "job              0\n",
       "marital          0\n",
       "education        0\n",
       "default          0\n",
       "mortgage         0\n",
       "loan             0\n",
       "contact_type     0\n",
       "duration_mins    0\n",
       "contact_num      0\n",
       "p_days           0\n",
       "p_outcome        0\n",
       "y_int            0\n",
       "dtype: int64"
      ]
     },
     "execution_count": 24,
     "metadata": {},
     "output_type": "execute_result"
    }
   ],
   "source": [
    "#Create new dataset with no Null values\n",
    "null_removed = df.copy().dropna()\n",
    "\n",
    "#Check if it contains Nulls\n",
    "null_removed.isna().sum()"
   ]
  },
  {
   "cell_type": "markdown",
   "metadata": {},
   "source": [
    "### Analysis"
   ]
  },
  {
   "cell_type": "code",
   "execution_count": 25,
   "metadata": {},
   "outputs": [
    {
     "data": {
      "text/plain": [
       "job\n",
       "admin.           4.236509\n",
       "blue-collar      4.403915\n",
       "entrepreneur     4.386205\n",
       "housemaid        4.174676\n",
       "management       4.283093\n",
       "retired          4.550772\n",
       "self-employed    4.407957\n",
       "services         4.311155\n",
       "student          4.705236\n",
       "technician       4.173363\n",
       "unemployed       4.129382\n",
       "unknown          3.994596\n",
       "Name: duration_mins, dtype: float64"
      ]
     },
     "execution_count": 25,
     "metadata": {},
     "output_type": "execute_result"
    }
   ],
   "source": [
    "null_removed.groupby('job').duration_mins.mean()"
   ]
  },
  {
   "cell_type": "code",
   "execution_count": 26,
   "metadata": {},
   "outputs": [
    {
     "data": {
      "text/html": [
       "<div>\n",
       "<style scoped>\n",
       "    .dataframe tbody tr th:only-of-type {\n",
       "        vertical-align: middle;\n",
       "    }\n",
       "\n",
       "    .dataframe tbody tr th {\n",
       "        vertical-align: top;\n",
       "    }\n",
       "\n",
       "    .dataframe thead th {\n",
       "        text-align: right;\n",
       "    }\n",
       "</style>\n",
       "<table border=\"1\" class=\"dataframe\">\n",
       "  <thead>\n",
       "    <tr style=\"text-align: right;\">\n",
       "      <th></th>\n",
       "      <th>age</th>\n",
       "      <th>duration_mins</th>\n",
       "    </tr>\n",
       "  </thead>\n",
       "  <tbody>\n",
       "    <tr>\n",
       "      <th>count</th>\n",
       "      <td>40966.000000</td>\n",
       "      <td>40966.000000</td>\n",
       "    </tr>\n",
       "    <tr>\n",
       "      <th>mean</th>\n",
       "      <td>40.018113</td>\n",
       "      <td>4.302348</td>\n",
       "    </tr>\n",
       "    <tr>\n",
       "      <th>std</th>\n",
       "      <td>10.417779</td>\n",
       "      <td>4.316419</td>\n",
       "    </tr>\n",
       "    <tr>\n",
       "      <th>min</th>\n",
       "      <td>17.000000</td>\n",
       "      <td>0.000000</td>\n",
       "    </tr>\n",
       "    <tr>\n",
       "      <th>25%</th>\n",
       "      <td>32.000000</td>\n",
       "      <td>1.700000</td>\n",
       "    </tr>\n",
       "    <tr>\n",
       "      <th>50%</th>\n",
       "      <td>38.000000</td>\n",
       "      <td>3.000000</td>\n",
       "    </tr>\n",
       "    <tr>\n",
       "      <th>75%</th>\n",
       "      <td>47.000000</td>\n",
       "      <td>5.316667</td>\n",
       "    </tr>\n",
       "    <tr>\n",
       "      <th>max</th>\n",
       "      <td>98.000000</td>\n",
       "      <td>81.966667</td>\n",
       "    </tr>\n",
       "  </tbody>\n",
       "</table>\n",
       "</div>"
      ],
      "text/plain": [
       "                age  duration_mins\n",
       "count  40966.000000   40966.000000\n",
       "mean      40.018113       4.302348\n",
       "std       10.417779       4.316419\n",
       "min       17.000000       0.000000\n",
       "25%       32.000000       1.700000\n",
       "50%       38.000000       3.000000\n",
       "75%       47.000000       5.316667\n",
       "max       98.000000      81.966667"
      ]
     },
     "execution_count": 26,
     "metadata": {},
     "output_type": "execute_result"
    }
   ],
   "source": [
    "null_removed[['age','duration_mins']].describe()"
   ]
  },
  {
   "cell_type": "markdown",
   "metadata": {},
   "source": [
    "#### Pivot Table"
   ]
  },
  {
   "cell_type": "code",
   "execution_count": 27,
   "metadata": {},
   "outputs": [
    {
     "data": {
      "text/html": [
       "<div>\n",
       "<style scoped>\n",
       "    .dataframe tbody tr th:only-of-type {\n",
       "        vertical-align: middle;\n",
       "    }\n",
       "\n",
       "    .dataframe tbody tr th {\n",
       "        vertical-align: top;\n",
       "    }\n",
       "\n",
       "    .dataframe thead th {\n",
       "        text-align: right;\n",
       "    }\n",
       "</style>\n",
       "<table border=\"1\" class=\"dataframe\">\n",
       "  <thead>\n",
       "    <tr style=\"text-align: right;\">\n",
       "      <th>marital</th>\n",
       "      <th>divorced</th>\n",
       "      <th>married</th>\n",
       "      <th>single</th>\n",
       "      <th>unknown</th>\n",
       "    </tr>\n",
       "    <tr>\n",
       "      <th>job</th>\n",
       "      <th></th>\n",
       "      <th></th>\n",
       "      <th></th>\n",
       "      <th></th>\n",
       "    </tr>\n",
       "  </thead>\n",
       "  <tbody>\n",
       "    <tr>\n",
       "      <th>admin.</th>\n",
       "      <td>4.239974</td>\n",
       "      <td>4.240674</td>\n",
       "      <td>4.224550</td>\n",
       "      <td>5.658333</td>\n",
       "    </tr>\n",
       "    <tr>\n",
       "      <th>blue-collar</th>\n",
       "      <td>4.541598</td>\n",
       "      <td>4.359708</td>\n",
       "      <td>4.499697</td>\n",
       "      <td>5.785714</td>\n",
       "    </tr>\n",
       "    <tr>\n",
       "      <th>entrepreneur</th>\n",
       "      <td>3.905932</td>\n",
       "      <td>4.471684</td>\n",
       "      <td>4.327805</td>\n",
       "      <td>6.366667</td>\n",
       "    </tr>\n",
       "    <tr>\n",
       "      <th>housemaid</th>\n",
       "      <td>4.198333</td>\n",
       "      <td>4.148919</td>\n",
       "      <td>4.365266</td>\n",
       "      <td>1.972222</td>\n",
       "    </tr>\n",
       "    <tr>\n",
       "      <th>management</th>\n",
       "      <td>4.141591</td>\n",
       "      <td>4.307586</td>\n",
       "      <td>4.284970</td>\n",
       "      <td>2.650000</td>\n",
       "    </tr>\n",
       "    <tr>\n",
       "      <th>retired</th>\n",
       "      <td>4.282707</td>\n",
       "      <td>4.604803</td>\n",
       "      <td>4.657428</td>\n",
       "      <td>7.490000</td>\n",
       "    </tr>\n",
       "    <tr>\n",
       "      <th>self-employed</th>\n",
       "      <td>4.875940</td>\n",
       "      <td>4.365501</td>\n",
       "      <td>4.293369</td>\n",
       "      <td>8.250000</td>\n",
       "    </tr>\n",
       "    <tr>\n",
       "      <th>services</th>\n",
       "      <td>4.315723</td>\n",
       "      <td>4.195720</td>\n",
       "      <td>4.542348</td>\n",
       "      <td>4.000000</td>\n",
       "    </tr>\n",
       "    <tr>\n",
       "      <th>student</th>\n",
       "      <td>5.883333</td>\n",
       "      <td>3.771951</td>\n",
       "      <td>4.741646</td>\n",
       "      <td>2.583333</td>\n",
       "    </tr>\n",
       "    <tr>\n",
       "      <th>technician</th>\n",
       "      <td>3.871222</td>\n",
       "      <td>4.206314</td>\n",
       "      <td>4.215759</td>\n",
       "      <td>5.538889</td>\n",
       "    </tr>\n",
       "    <tr>\n",
       "      <th>unemployed</th>\n",
       "      <td>4.162500</td>\n",
       "      <td>4.183704</td>\n",
       "      <td>4.007764</td>\n",
       "      <td>2.520000</td>\n",
       "    </tr>\n",
       "    <tr>\n",
       "      <th>unknown</th>\n",
       "      <td>2.698718</td>\n",
       "      <td>3.463533</td>\n",
       "      <td>5.854505</td>\n",
       "      <td>4.381481</td>\n",
       "    </tr>\n",
       "  </tbody>\n",
       "</table>\n",
       "</div>"
      ],
      "text/plain": [
       "marital        divorced   married    single   unknown\n",
       "job                                                  \n",
       "admin.         4.239974  4.240674  4.224550  5.658333\n",
       "blue-collar    4.541598  4.359708  4.499697  5.785714\n",
       "entrepreneur   3.905932  4.471684  4.327805  6.366667\n",
       "housemaid      4.198333  4.148919  4.365266  1.972222\n",
       "management     4.141591  4.307586  4.284970  2.650000\n",
       "retired        4.282707  4.604803  4.657428  7.490000\n",
       "self-employed  4.875940  4.365501  4.293369  8.250000\n",
       "services       4.315723  4.195720  4.542348  4.000000\n",
       "student        5.883333  3.771951  4.741646  2.583333\n",
       "technician     3.871222  4.206314  4.215759  5.538889\n",
       "unemployed     4.162500  4.183704  4.007764  2.520000\n",
       "unknown        2.698718  3.463533  5.854505  4.381481"
      ]
     },
     "execution_count": 27,
     "metadata": {},
     "output_type": "execute_result"
    }
   ],
   "source": [
    "# Pivot table with mean aggregation\n",
    "a = null_removed.pivot_table(values='duration_mins', index='job', columns='marital', aggfunc='mean',margins=False)\n",
    "a"
   ]
  },
  {
   "cell_type": "markdown",
   "metadata": {},
   "source": [
    "#### Response rate for each job values"
   ]
  },
  {
   "cell_type": "markdown",
   "metadata": {},
   "source": [
    "Based on our analysis, we have observed that the category with the highest response rate is \"students\", while the category with the lowest response rate is \"blue-collar\". The average response rate across all categories is 11.26%. Notably, occupations such as \"student\", \"retired\", \"unemployed\", and \"admin\" have response rates above the average, suggesting that targeting campaigns towards these occupations may yield better outcomes."
   ]
  },
  {
   "cell_type": "code",
   "execution_count": 28,
   "metadata": {},
   "outputs": [
    {
     "data": {
      "text/plain": [
       "job\n",
       "student          31.300345\n",
       "retired          25.205158\n",
       "unemployed       14.186508\n",
       "admin.           12.992278\n",
       "unknown          11.212121\n",
       "management       11.145511\n",
       "technician       10.814837\n",
       "self-employed    10.522599\n",
       "housemaid        10.066477\n",
       "entrepreneur      8.581315\n",
       "services          8.141593\n",
       "blue-collar       6.877445\n",
       "Name: y_int, dtype: float64"
      ]
     },
     "execution_count": 28,
     "metadata": {},
     "output_type": "execute_result"
    }
   ],
   "source": [
    "#Resonse rate for each job in percentage (%)\n",
    "(null_removed.groupby('job')['y_int'].mean()*100).sort_values(ascending=False)"
   ]
  },
  {
   "cell_type": "code",
   "execution_count": 29,
   "metadata": {},
   "outputs": [
    {
     "data": {
      "text/plain": [
       "11.258116486842749"
      ]
     },
     "execution_count": 29,
     "metadata": {},
     "output_type": "execute_result"
    }
   ],
   "source": [
    "null_removed.y_int.mean()*100"
   ]
  },
  {
   "cell_type": "markdown",
   "metadata": {},
   "source": [
    "### Model Fitting"
   ]
  },
  {
   "cell_type": "markdown",
   "metadata": {},
   "source": [
    "#### Categorical variable processing: One-hot encoding"
   ]
  },
  {
   "cell_type": "code",
   "execution_count": 30,
   "metadata": {},
   "outputs": [
    {
     "data": {
      "text/html": [
       "<div>\n",
       "<style scoped>\n",
       "    .dataframe tbody tr th:only-of-type {\n",
       "        vertical-align: middle;\n",
       "    }\n",
       "\n",
       "    .dataframe tbody tr th {\n",
       "        vertical-align: top;\n",
       "    }\n",
       "\n",
       "    .dataframe thead th {\n",
       "        text-align: right;\n",
       "    }\n",
       "</style>\n",
       "<table border=\"1\" class=\"dataframe\">\n",
       "  <thead>\n",
       "    <tr style=\"text-align: right;\">\n",
       "      <th></th>\n",
       "      <th>cust_id</th>\n",
       "      <th>age</th>\n",
       "      <th>duration_mins</th>\n",
       "      <th>contact_num</th>\n",
       "      <th>p_days</th>\n",
       "      <th>y_int</th>\n",
       "      <th>job_admin.</th>\n",
       "      <th>job_blue-collar</th>\n",
       "      <th>job_entrepreneur</th>\n",
       "      <th>job_housemaid</th>\n",
       "      <th>...</th>\n",
       "      <th>mortgage_unknown</th>\n",
       "      <th>mortgage_yes</th>\n",
       "      <th>loan_no</th>\n",
       "      <th>loan_unknown</th>\n",
       "      <th>loan_yes</th>\n",
       "      <th>contact_type_cellular</th>\n",
       "      <th>contact_type_telephone</th>\n",
       "      <th>p_outcome_failure</th>\n",
       "      <th>p_outcome_nonexistent</th>\n",
       "      <th>p_outcome_success</th>\n",
       "    </tr>\n",
       "  </thead>\n",
       "  <tbody>\n",
       "    <tr>\n",
       "      <th>0</th>\n",
       "      <td>78339</td>\n",
       "      <td>48.0</td>\n",
       "      <td>14.366667</td>\n",
       "      <td>3.0</td>\n",
       "      <td>999</td>\n",
       "      <td>1.0</td>\n",
       "      <td>False</td>\n",
       "      <td>True</td>\n",
       "      <td>False</td>\n",
       "      <td>False</td>\n",
       "      <td>...</td>\n",
       "      <td>False</td>\n",
       "      <td>True</td>\n",
       "      <td>True</td>\n",
       "      <td>False</td>\n",
       "      <td>False</td>\n",
       "      <td>True</td>\n",
       "      <td>False</td>\n",
       "      <td>False</td>\n",
       "      <td>True</td>\n",
       "      <td>False</td>\n",
       "    </tr>\n",
       "    <tr>\n",
       "      <th>1</th>\n",
       "      <td>94962</td>\n",
       "      <td>68.0</td>\n",
       "      <td>9.100000</td>\n",
       "      <td>2.0</td>\n",
       "      <td>999</td>\n",
       "      <td>1.0</td>\n",
       "      <td>False</td>\n",
       "      <td>False</td>\n",
       "      <td>False</td>\n",
       "      <td>False</td>\n",
       "      <td>...</td>\n",
       "      <td>False</td>\n",
       "      <td>True</td>\n",
       "      <td>True</td>\n",
       "      <td>False</td>\n",
       "      <td>False</td>\n",
       "      <td>True</td>\n",
       "      <td>False</td>\n",
       "      <td>True</td>\n",
       "      <td>False</td>\n",
       "      <td>False</td>\n",
       "    </tr>\n",
       "    <tr>\n",
       "      <th>2</th>\n",
       "      <td>71110</td>\n",
       "      <td>45.0</td>\n",
       "      <td>1.683333</td>\n",
       "      <td>2.0</td>\n",
       "      <td>999</td>\n",
       "      <td>0.0</td>\n",
       "      <td>False</td>\n",
       "      <td>False</td>\n",
       "      <td>False</td>\n",
       "      <td>False</td>\n",
       "      <td>...</td>\n",
       "      <td>False</td>\n",
       "      <td>True</td>\n",
       "      <td>True</td>\n",
       "      <td>False</td>\n",
       "      <td>False</td>\n",
       "      <td>False</td>\n",
       "      <td>True</td>\n",
       "      <td>False</td>\n",
       "      <td>True</td>\n",
       "      <td>False</td>\n",
       "    </tr>\n",
       "    <tr>\n",
       "      <th>3</th>\n",
       "      <td>97004</td>\n",
       "      <td>28.0</td>\n",
       "      <td>7.283333</td>\n",
       "      <td>1.0</td>\n",
       "      <td>999</td>\n",
       "      <td>0.0</td>\n",
       "      <td>False</td>\n",
       "      <td>True</td>\n",
       "      <td>False</td>\n",
       "      <td>False</td>\n",
       "      <td>...</td>\n",
       "      <td>False</td>\n",
       "      <td>False</td>\n",
       "      <td>True</td>\n",
       "      <td>False</td>\n",
       "      <td>False</td>\n",
       "      <td>True</td>\n",
       "      <td>False</td>\n",
       "      <td>False</td>\n",
       "      <td>True</td>\n",
       "      <td>False</td>\n",
       "    </tr>\n",
       "    <tr>\n",
       "      <th>4</th>\n",
       "      <td>11598</td>\n",
       "      <td>37.0</td>\n",
       "      <td>3.133333</td>\n",
       "      <td>1.0</td>\n",
       "      <td>999</td>\n",
       "      <td>0.0</td>\n",
       "      <td>False</td>\n",
       "      <td>True</td>\n",
       "      <td>False</td>\n",
       "      <td>False</td>\n",
       "      <td>...</td>\n",
       "      <td>False</td>\n",
       "      <td>False</td>\n",
       "      <td>True</td>\n",
       "      <td>False</td>\n",
       "      <td>False</td>\n",
       "      <td>True</td>\n",
       "      <td>False</td>\n",
       "      <td>False</td>\n",
       "      <td>True</td>\n",
       "      <td>False</td>\n",
       "    </tr>\n",
       "    <tr>\n",
       "      <th>...</th>\n",
       "      <td>...</td>\n",
       "      <td>...</td>\n",
       "      <td>...</td>\n",
       "      <td>...</td>\n",
       "      <td>...</td>\n",
       "      <td>...</td>\n",
       "      <td>...</td>\n",
       "      <td>...</td>\n",
       "      <td>...</td>\n",
       "      <td>...</td>\n",
       "      <td>...</td>\n",
       "      <td>...</td>\n",
       "      <td>...</td>\n",
       "      <td>...</td>\n",
       "      <td>...</td>\n",
       "      <td>...</td>\n",
       "      <td>...</td>\n",
       "      <td>...</td>\n",
       "      <td>...</td>\n",
       "      <td>...</td>\n",
       "      <td>...</td>\n",
       "    </tr>\n",
       "    <tr>\n",
       "      <th>41183</th>\n",
       "      <td>56044</td>\n",
       "      <td>32.0</td>\n",
       "      <td>4.700000</td>\n",
       "      <td>1.0</td>\n",
       "      <td>999</td>\n",
       "      <td>1.0</td>\n",
       "      <td>False</td>\n",
       "      <td>True</td>\n",
       "      <td>False</td>\n",
       "      <td>False</td>\n",
       "      <td>...</td>\n",
       "      <td>False</td>\n",
       "      <td>True</td>\n",
       "      <td>True</td>\n",
       "      <td>False</td>\n",
       "      <td>False</td>\n",
       "      <td>True</td>\n",
       "      <td>False</td>\n",
       "      <td>False</td>\n",
       "      <td>True</td>\n",
       "      <td>False</td>\n",
       "    </tr>\n",
       "    <tr>\n",
       "      <th>41184</th>\n",
       "      <td>24556</td>\n",
       "      <td>42.0</td>\n",
       "      <td>21.616667</td>\n",
       "      <td>3.0</td>\n",
       "      <td>999</td>\n",
       "      <td>1.0</td>\n",
       "      <td>False</td>\n",
       "      <td>True</td>\n",
       "      <td>False</td>\n",
       "      <td>False</td>\n",
       "      <td>...</td>\n",
       "      <td>False</td>\n",
       "      <td>False</td>\n",
       "      <td>False</td>\n",
       "      <td>False</td>\n",
       "      <td>True</td>\n",
       "      <td>False</td>\n",
       "      <td>True</td>\n",
       "      <td>False</td>\n",
       "      <td>True</td>\n",
       "      <td>False</td>\n",
       "    </tr>\n",
       "    <tr>\n",
       "      <th>41185</th>\n",
       "      <td>15097</td>\n",
       "      <td>54.0</td>\n",
       "      <td>2.966667</td>\n",
       "      <td>5.0</td>\n",
       "      <td>999</td>\n",
       "      <td>0.0</td>\n",
       "      <td>False</td>\n",
       "      <td>False</td>\n",
       "      <td>False</td>\n",
       "      <td>False</td>\n",
       "      <td>...</td>\n",
       "      <td>False</td>\n",
       "      <td>True</td>\n",
       "      <td>True</td>\n",
       "      <td>False</td>\n",
       "      <td>False</td>\n",
       "      <td>True</td>\n",
       "      <td>False</td>\n",
       "      <td>False</td>\n",
       "      <td>True</td>\n",
       "      <td>False</td>\n",
       "    </tr>\n",
       "    <tr>\n",
       "      <th>41186</th>\n",
       "      <td>2365</td>\n",
       "      <td>37.0</td>\n",
       "      <td>3.650000</td>\n",
       "      <td>2.0</td>\n",
       "      <td>999</td>\n",
       "      <td>0.0</td>\n",
       "      <td>False</td>\n",
       "      <td>False</td>\n",
       "      <td>False</td>\n",
       "      <td>False</td>\n",
       "      <td>...</td>\n",
       "      <td>False</td>\n",
       "      <td>False</td>\n",
       "      <td>True</td>\n",
       "      <td>False</td>\n",
       "      <td>False</td>\n",
       "      <td>True</td>\n",
       "      <td>False</td>\n",
       "      <td>False</td>\n",
       "      <td>True</td>\n",
       "      <td>False</td>\n",
       "    </tr>\n",
       "    <tr>\n",
       "      <th>41187</th>\n",
       "      <td>23349</td>\n",
       "      <td>40.0</td>\n",
       "      <td>8.900000</td>\n",
       "      <td>1.0</td>\n",
       "      <td>999</td>\n",
       "      <td>0.0</td>\n",
       "      <td>False</td>\n",
       "      <td>True</td>\n",
       "      <td>False</td>\n",
       "      <td>False</td>\n",
       "      <td>...</td>\n",
       "      <td>False</td>\n",
       "      <td>True</td>\n",
       "      <td>True</td>\n",
       "      <td>False</td>\n",
       "      <td>False</td>\n",
       "      <td>False</td>\n",
       "      <td>True</td>\n",
       "      <td>False</td>\n",
       "      <td>True</td>\n",
       "      <td>False</td>\n",
       "    </tr>\n",
       "  </tbody>\n",
       "</table>\n",
       "<p>40966 rows × 44 columns</p>\n",
       "</div>"
      ],
      "text/plain": [
       "       cust_id   age  duration_mins  contact_num  p_days  y_int  job_admin.  \\\n",
       "0        78339  48.0      14.366667          3.0     999    1.0       False   \n",
       "1        94962  68.0       9.100000          2.0     999    1.0       False   \n",
       "2        71110  45.0       1.683333          2.0     999    0.0       False   \n",
       "3        97004  28.0       7.283333          1.0     999    0.0       False   \n",
       "4        11598  37.0       3.133333          1.0     999    0.0       False   \n",
       "...        ...   ...            ...          ...     ...    ...         ...   \n",
       "41183    56044  32.0       4.700000          1.0     999    1.0       False   \n",
       "41184    24556  42.0      21.616667          3.0     999    1.0       False   \n",
       "41185    15097  54.0       2.966667          5.0     999    0.0       False   \n",
       "41186     2365  37.0       3.650000          2.0     999    0.0       False   \n",
       "41187    23349  40.0       8.900000          1.0     999    0.0       False   \n",
       "\n",
       "       job_blue-collar  job_entrepreneur  job_housemaid  ...  \\\n",
       "0                 True             False          False  ...   \n",
       "1                False             False          False  ...   \n",
       "2                False             False          False  ...   \n",
       "3                 True             False          False  ...   \n",
       "4                 True             False          False  ...   \n",
       "...                ...               ...            ...  ...   \n",
       "41183             True             False          False  ...   \n",
       "41184             True             False          False  ...   \n",
       "41185            False             False          False  ...   \n",
       "41186            False             False          False  ...   \n",
       "41187             True             False          False  ...   \n",
       "\n",
       "       mortgage_unknown  mortgage_yes  loan_no  loan_unknown  loan_yes  \\\n",
       "0                 False          True     True         False     False   \n",
       "1                 False          True     True         False     False   \n",
       "2                 False          True     True         False     False   \n",
       "3                 False         False     True         False     False   \n",
       "4                 False         False     True         False     False   \n",
       "...                 ...           ...      ...           ...       ...   \n",
       "41183             False          True     True         False     False   \n",
       "41184             False         False    False         False      True   \n",
       "41185             False          True     True         False     False   \n",
       "41186             False         False     True         False     False   \n",
       "41187             False          True     True         False     False   \n",
       "\n",
       "       contact_type_cellular  contact_type_telephone  p_outcome_failure  \\\n",
       "0                       True                   False              False   \n",
       "1                       True                   False               True   \n",
       "2                      False                    True              False   \n",
       "3                       True                   False              False   \n",
       "4                       True                   False              False   \n",
       "...                      ...                     ...                ...   \n",
       "41183                   True                   False              False   \n",
       "41184                  False                    True              False   \n",
       "41185                   True                   False              False   \n",
       "41186                   True                   False              False   \n",
       "41187                  False                    True              False   \n",
       "\n",
       "       p_outcome_nonexistent  p_outcome_success  \n",
       "0                       True              False  \n",
       "1                      False              False  \n",
       "2                       True              False  \n",
       "3                       True              False  \n",
       "4                       True              False  \n",
       "...                      ...                ...  \n",
       "41183                   True              False  \n",
       "41184                   True              False  \n",
       "41185                   True              False  \n",
       "41186                   True              False  \n",
       "41187                   True              False  \n",
       "\n",
       "[40966 rows x 44 columns]"
      ]
     },
     "execution_count": 30,
     "metadata": {},
     "output_type": "execute_result"
    }
   ],
   "source": [
    "null_removed_dummies = pd.get_dummies(null_removed)\n",
    "null_removed_dummies"
   ]
  },
  {
   "cell_type": "markdown",
   "metadata": {},
   "source": [
    "#### Splitting data into predictors and outcomes"
   ]
  },
  {
   "cell_type": "code",
   "execution_count": 31,
   "metadata": {},
   "outputs": [
    {
     "name": "stdout",
     "output_type": "stream",
     "text": [
      "Index(['cust_id', 'age', 'duration_mins', 'contact_num', 'p_days', 'y_int',\n",
      "       'job_admin.', 'job_blue-collar', 'job_entrepreneur', 'job_housemaid',\n",
      "       'job_management', 'job_retired', 'job_self-employed', 'job_services',\n",
      "       'job_student', 'job_technician', 'job_unemployed', 'job_unknown',\n",
      "       'marital_divorced', 'marital_married', 'marital_single',\n",
      "       'marital_unknown', 'education_basic.4y', 'education_basic.6y',\n",
      "       'education_basic.9y', 'education_high.school', 'education_illiterate',\n",
      "       'education_professional.course', 'education_university.degree',\n",
      "       'education_unknown', 'default_no', 'default_unknown', 'default_yes',\n",
      "       'mortgage_no', 'mortgage_unknown', 'mortgage_yes', 'loan_no',\n",
      "       'loan_unknown', 'loan_yes', 'contact_type_cellular',\n",
      "       'contact_type_telephone', 'p_outcome_failure', 'p_outcome_nonexistent',\n",
      "       'p_outcome_success'],\n",
      "      dtype='object')\n"
     ]
    }
   ],
   "source": [
    "#Getting all  variables in null_removed_dummies\n",
    "print(null_removed_dummies.columns)"
   ]
  },
  {
   "cell_type": "code",
   "execution_count": 32,
   "metadata": {},
   "outputs": [],
   "source": [
    "#Setting predictors\n",
    "X = null_removed_dummies[['cust_id', 'age', 'duration_mins', 'contact_num', 'p_days',\n",
    "       'job_admin.', 'job_blue-collar', 'job_entrepreneur', 'job_housemaid',\n",
    "       'job_management', 'job_retired', 'job_self-employed', 'job_services',\n",
    "       'job_student', 'job_technician', 'job_unemployed', 'job_unknown',\n",
    "       'marital_divorced', 'marital_married', 'marital_single',\n",
    "       'marital_unknown', 'education_basic.4y', 'education_basic.6y',\n",
    "       'education_basic.9y', 'education_high.school', 'education_illiterate',\n",
    "       'education_professional.course', 'education_university.degree',\n",
    "       'education_unknown', 'default_no', 'default_unknown', 'default_yes',\n",
    "       'mortgage_no', 'mortgage_unknown', 'mortgage_yes', 'loan_no',\n",
    "       'loan_unknown', 'loan_yes', 'contact_type_cellular',\n",
    "       'contact_type_telephone', 'p_outcome_failure', 'p_outcome_nonexistent',\n",
    "       'p_outcome_success']]\n",
    "#Setting y_int as outcome\n",
    "y = null_removed_dummies.y_int"
   ]
  },
  {
   "cell_type": "markdown",
   "metadata": {},
   "source": [
    "#### Train Test Split"
   ]
  },
  {
   "cell_type": "code",
   "execution_count": 33,
   "metadata": {},
   "outputs": [],
   "source": [
    "from sklearn.model_selection import train_test_split\n",
    "X_train, X_test, y_train, y_test = train_test_split(X, y, test_size=0.2, random_state=2023)"
   ]
  },
  {
   "cell_type": "markdown",
   "metadata": {},
   "source": [
    "#### Logistics Regression"
   ]
  },
  {
   "cell_type": "markdown",
   "metadata": {},
   "source": [
    "Logistic regression is ideal for scenarios where we want to predict binary outcomes(\"Yes\"/\"No\"). Since it is designed specifically for binary classification tasks.\n",
    "\n",
    "Assumptions that are made:\n",
    "- Binary Outcome\n",
    "- Independence of Observations\n",
    "- Linearity of Log Odds\n",
    "- Little to none Multicollinearity\n",
    "- Large Sample Size"
   ]
  },
  {
   "cell_type": "code",
   "execution_count": 34,
   "metadata": {},
   "outputs": [
    {
     "name": "stderr",
     "output_type": "stream",
     "text": [
      "/home/codespace/.local/lib/python3.10/site-packages/sklearn/linear_model/_logistic.py:469: ConvergenceWarning: lbfgs failed to converge (status=1):\n",
      "STOP: TOTAL NO. of ITERATIONS REACHED LIMIT.\n",
      "\n",
      "Increase the number of iterations (max_iter) or scale the data as shown in:\n",
      "    https://scikit-learn.org/stable/modules/preprocessing.html\n",
      "Please also refer to the documentation for alternative solver options:\n",
      "    https://scikit-learn.org/stable/modules/linear_model.html#logistic-regression\n",
      "  n_iter_i = _check_optimize_result(\n"
     ]
    }
   ],
   "source": [
    "from sklearn.linear_model import LogisticRegression\n",
    "from sklearn.metrics import confusion_matrix\n",
    "\n",
    "#Fit the logistic regression model\n",
    "log_model = LogisticRegression()\n",
    "log_clf=log_model.fit(X_train, y_train)\n",
    "\n",
    "# Predicted classes\n",
    "y_pred=log_clf.predict(X_test)\n"
   ]
  },
  {
   "cell_type": "markdown",
   "metadata": {},
   "source": [
    "##### Confusion Matrix"
   ]
  },
  {
   "cell_type": "code",
   "execution_count": 35,
   "metadata": {},
   "outputs": [
    {
     "data": {
      "image/png": "[encoded data removed]",
      "text/plain": [
       "<Figure size 640x480 with 2 Axes>"
      ]
     },
     "metadata": {},
     "output_type": "display_data"
    },
    {
     "name": "stdout",
     "output_type": "stream",
     "text": [
      "Precision:  0.6309278350515464\n",
      "Sensitivity_recall:  0.3315276273022752\n",
      "Logistic Regression Accuracy:  0.902855748108372\n",
      "F1_score:  0.4346590909090909\n"
     ]
    }
   ],
   "source": [
    "from sklearn import metrics\n",
    "confusion_matrix = metrics.confusion_matrix(y_test, y_pred)\n",
    "\n",
    "cm_display = metrics.ConfusionMatrixDisplay(confusion_matrix = confusion_matrix)\n",
    "cm_display.plot()\n",
    "plt.show()\n",
    "\n",
    "print('Precision: ' , metrics.precision_score(y_test, y_pred))\n",
    "print('Sensitivity_recall: ', metrics.recall_score(y_test, y_pred))\n",
    "print(\"Logistic Regression Accuracy: \", np.mean(y_pred == y_test))\n",
    "print('F1_score: ' , metrics.f1_score(y_test, y_pred))"
   ]
  },
  {
   "cell_type": "markdown",
   "metadata": {},
   "source": [
    "#### Random Forest\n"
   ]
  },
  {
   "cell_type": "code",
   "execution_count": 36,
   "metadata": {},
   "outputs": [],
   "source": [
    "from sklearn.ensemble import RandomForestClassifier\n",
    "rf_clf = RandomForestClassifier(max_depth=4, random_state=2023)\n",
    "rf_clf.fit(X_train, y_train)\n",
    "y_pred=rf_clf.predict(X_test)"
   ]
  },
  {
   "cell_type": "code",
   "execution_count": 37,
   "metadata": {},
   "outputs": [
    {
     "data": {
      "image/png": "[encoded data removed]",
      "text/plain": [
       "<Figure size 640x480 with 2 Axes>"
      ]
     },
     "metadata": {},
     "output_type": "display_data"
    },
    {
     "name": "stdout",
     "output_type": "stream",
     "text": [
      "Precision:  0.7621359223300971\n",
      "Sensitivity_recall:  0.17009750812567714\n",
      "Accuracy: 0.9005369782767879\n",
      "F1_score:  0.27812223206377323\n"
     ]
    }
   ],
   "source": [
    "confusion_matrix = metrics.confusion_matrix(y_test, y_pred)\n",
    "\n",
    "cm_display = metrics.ConfusionMatrixDisplay(confusion_matrix = confusion_matrix)\n",
    "cm_display.plot()\n",
    "plt.show()\n",
    "\n",
    "print('Precision: ' , metrics.precision_score(y_test, y_pred))\n",
    "print('Sensitivity_recall: ', metrics.recall_score(y_test, y_pred))\n",
    "print(\"Accuracy:\",metrics.accuracy_score(y_test, y_pred))\n",
    "print('F1_score: ' , metrics.f1_score(y_test, y_pred))"
   ]
  },
  {
   "cell_type": "markdown",
   "metadata": {},
   "source": [
    "### Imputing Variables"
   ]
  },
  {
   "cell_type": "markdown",
   "metadata": {},
   "source": [
    "#### Impute Categorical variables"
   ]
  },
  {
   "cell_type": "code",
   "execution_count": 38,
   "metadata": {},
   "outputs": [],
   "source": [
    "for col in cmpn_char.columns:\n",
    "    cmpn_char.loc[cmpn_char[col].isna(), col] = \"unknown\""
   ]
  },
  {
   "cell_type": "code",
   "execution_count": 39,
   "metadata": {},
   "outputs": [
    {
     "data": {
      "text/plain": [
       "job             0\n",
       "marital         0\n",
       "education       0\n",
       "default         0\n",
       "mortgage        0\n",
       "loan            0\n",
       "contact_type    0\n",
       "p_outcome       0\n",
       "y               0\n",
       "dtype: int64"
      ]
     },
     "execution_count": 39,
     "metadata": {},
     "output_type": "execute_result"
    }
   ],
   "source": [
    "cmpn_char.isna().sum()"
   ]
  },
  {
   "cell_type": "markdown",
   "metadata": {},
   "source": [
    "#### Impute Numeric variables"
   ]
  },
  {
   "cell_type": "code",
   "execution_count": 40,
   "metadata": {},
   "outputs": [],
   "source": [
    "for i in cmpn_num.columns:\n",
    "    cmpn_num.loc[cmpn_num[i].isna(), i] = cmpn_num[i].median()"
   ]
  },
  {
   "cell_type": "code",
   "execution_count": 41,
   "metadata": {},
   "outputs": [
    {
     "data": {
      "text/plain": [
       "age              0\n",
       "duration_mins    0\n",
       "contact_num      0\n",
       "p_days           0\n",
       "dtype: int64"
      ]
     },
     "execution_count": 41,
     "metadata": {},
     "output_type": "execute_result"
    }
   ],
   "source": [
    "cmpn_num.isna().sum()"
   ]
  },
  {
   "cell_type": "markdown",
   "metadata": {},
   "source": [
    "#### Concatenate the imputed variables"
   ]
  },
  {
   "cell_type": "code",
   "execution_count": 42,
   "metadata": {},
   "outputs": [
    {
     "name": "stdout",
     "output_type": "stream",
     "text": [
      "cust_id          0\n",
      "date             0\n",
      "age              0\n",
      "duration_mins    0\n",
      "contact_num      0\n",
      "p_days           0\n",
      "job              0\n",
      "marital          0\n",
      "education        0\n",
      "default          0\n",
      "mortgage         0\n",
      "loan             0\n",
      "contact_type     0\n",
      "p_outcome        0\n",
      "y                0\n",
      "dtype: int64\n"
     ]
    }
   ],
   "source": [
    "cmpn_impute = pd.concat([cmpn_key,cmpn_num,cmpn_char], axis=1)\n",
    "print(cmpn_impute.isna().sum())"
   ]
  },
  {
   "cell_type": "markdown",
   "metadata": {},
   "source": [
    "## Imputed data model"
   ]
  },
  {
   "cell_type": "markdown",
   "metadata": {},
   "source": [
    "The inclusion of imputed values for both categorical and numeric variables, utilizing mean imputation, has demonstrated a notable enhancement in prediction accuracy. By imputing missing values with the mean, we successfully mitigated the impact of incomplete data on our predictive model. This approach not only helped maintain the overall distribution of the dataset but also contributed to minimizing bias introduced by excluding incomplete observations. However, it's essential to acknowledge that mean imputation assumes that missing data are completely at random (MCAR), a critical assumption that should be carefully validated for our dataset. While this strategy led to an improvement in prediction performance, further exploration of alternative imputation methods and robustness checks will be beneficial to ensure the reliability and generalizability of our results."
   ]
  },
  {
   "cell_type": "code",
   "execution_count": 43,
   "metadata": {},
   "outputs": [],
   "source": [
    "#create a copy of cmpn, so it won't mess up the original dataset\n",
    "df = cmpn_impute.copy()\n",
    "df\n",
    "# Change the outcome to binary, i.e. 0 and 1\n",
    "df.loc[df.y=='yes',\"y_int\"] = 1\n",
    "df.loc[df.y=='no',\"y_int\"] = 0\n",
    "\n",
    "df = df.drop(columns=['y','date'])"
   ]
  },
  {
   "cell_type": "markdown",
   "metadata": {},
   "source": [
    "### Getting Dummies"
   ]
  },
  {
   "cell_type": "code",
   "execution_count": 44,
   "metadata": {},
   "outputs": [],
   "source": [
    "df2 = pd.get_dummies(df)"
   ]
  },
  {
   "cell_type": "code",
   "execution_count": 45,
   "metadata": {},
   "outputs": [],
   "source": [
    "#Setting predictors\n",
    "X = df2[['cust_id', 'age', 'duration_mins', 'contact_num', 'p_days',\n",
    "       'job_admin.', 'job_blue-collar', 'job_entrepreneur', 'job_housemaid',\n",
    "       'job_management', 'job_retired', 'job_self-employed', 'job_services',\n",
    "       'job_student', 'job_technician', 'job_unemployed', 'job_unknown',\n",
    "       'marital_divorced', 'marital_married', 'marital_single',\n",
    "       'marital_unknown', 'education_basic.4y', 'education_basic.6y',\n",
    "       'education_basic.9y', 'education_high.school', 'education_illiterate',\n",
    "       'education_professional.course', 'education_university.degree',\n",
    "       'education_unknown', 'default_no', 'default_unknown', 'default_yes',\n",
    "       'mortgage_no', 'mortgage_unknown', 'mortgage_yes', 'loan_no',\n",
    "       'loan_unknown', 'loan_yes', 'contact_type_cellular',\n",
    "       'contact_type_telephone', 'p_outcome_failure', 'p_outcome_nonexistent',\n",
    "       'p_outcome_success']]\n",
    "#Setting y_int as outcome\n",
    "y = df2.y_int"
   ]
  },
  {
   "cell_type": "markdown",
   "metadata": {},
   "source": [
    "### Train Test Split"
   ]
  },
  {
   "cell_type": "code",
   "execution_count": 46,
   "metadata": {},
   "outputs": [],
   "source": [
    "from sklearn.model_selection import train_test_split\n",
    "X_train, X_test, y_train, y_test = train_test_split(X, y, test_size=0.2, random_state=2023)"
   ]
  },
  {
   "cell_type": "markdown",
   "metadata": {},
   "source": [
    "### Random Forest Model"
   ]
  },
  {
   "cell_type": "code",
   "execution_count": 47,
   "metadata": {},
   "outputs": [
    {
     "name": "stdout",
     "output_type": "stream",
     "text": [
      "Accuracy: 0.902282107307599\n"
     ]
    }
   ],
   "source": [
    "from sklearn.ensemble import RandomForestClassifier\n",
    "rf_clf = RandomForestClassifier(max_depth=10, random_state=2023)\n",
    "rf_clf.fit(X_train, y_train)\n",
    "y_pred=rf_clf.predict(X_test)\n",
    "print(\"Accuracy:\",metrics.accuracy_score(y_test, y_pred))\n"
   ]
  },
  {
   "cell_type": "markdown",
   "metadata": {},
   "source": [
    "#### Confusion Matrix"
   ]
  },
  {
   "cell_type": "code",
   "execution_count": 48,
   "metadata": {},
   "outputs": [
    {
     "data": {
      "image/png": "[encoded data removed]",
      "text/plain": [
       "<Figure size 640x480 with 2 Axes>"
      ]
     },
     "metadata": {},
     "output_type": "display_data"
    },
    {
     "name": "stdout",
     "output_type": "stream",
     "text": [
      "Precision:  0.7521367521367521\n",
      "Sensitivity_recall:  0.19068255687973998\n",
      "Logistic Regression Accuracy:  0.902282107307599\n",
      "F1_score:  0.30423509075194466\n"
     ]
    }
   ],
   "source": [
    "from sklearn import metrics\n",
    "confusion_matrix = metrics.confusion_matrix(y_test, y_pred)\n",
    "\n",
    "cm_display = metrics.ConfusionMatrixDisplay(confusion_matrix = confusion_matrix)\n",
    "cm_display.plot()\n",
    "plt.show()\n",
    "\n",
    "print('Precision: ' , metrics.precision_score(y_test, y_pred))\n",
    "print('Sensitivity_recall: ', metrics.recall_score(y_test, y_pred))\n",
    "print(\"Logistic Regression Accuracy: \", np.mean(y_pred == y_test))\n",
    "print('F1_score: ' , metrics.f1_score(y_test, y_pred))"
   ]
  },
  {
   "cell_type": "markdown",
   "metadata": {},
   "source": [
    "### Logistics Regression Model"
   ]
  },
  {
   "cell_type": "code",
   "execution_count": 49,
   "metadata": {},
   "outputs": [
    {
     "name": "stderr",
     "output_type": "stream",
     "text": [
      "/home/codespace/.local/lib/python3.10/site-packages/sklearn/linear_model/_logistic.py:469: ConvergenceWarning: lbfgs failed to converge (status=1):\n",
      "STOP: TOTAL NO. of ITERATIONS REACHED LIMIT.\n",
      "\n",
      "Increase the number of iterations (max_iter) or scale the data as shown in:\n",
      "    https://scikit-learn.org/stable/modules/preprocessing.html\n",
      "Please also refer to the documentation for alternative solver options:\n",
      "    https://scikit-learn.org/stable/modules/linear_model.html#logistic-regression\n",
      "  n_iter_i = _check_optimize_result(\n"
     ]
    }
   ],
   "source": [
    "from sklearn.linear_model import LogisticRegression\n",
    "from sklearn.metrics import confusion_matrix\n",
    "\n",
    "#Fit the logistic regression model\n",
    "log_model = LogisticRegression()\n",
    "log_clf=log_model.fit(X_train, y_train)\n",
    "\n",
    "# Predicted classes\n",
    "y_pred=log_clf.predict(X_test)\n"
   ]
  },
  {
   "cell_type": "markdown",
   "metadata": {},
   "source": [
    "#### Confusion Matrix"
   ]
  },
  {
   "cell_type": "code",
   "execution_count": 50,
   "metadata": {},
   "outputs": [
    {
     "data": {
      "image/png": "[encoded data removed]",
      "text/plain": [
       "<Figure size 640x480 with 2 Axes>"
      ]
     },
     "metadata": {},
     "output_type": "display_data"
    },
    {
     "name": "stdout",
     "output_type": "stream",
     "text": [
      "Precision:  0.6616379310344828\n",
      "Sensitivity_recall:  0.3326110509209101\n",
      "Logistic Regression Accuracy:  0.9061665452779801\n",
      "F1_score:  0.4426820475847152\n"
     ]
    }
   ],
   "source": [
    "from sklearn import metrics\n",
    "confusion_matrix = metrics.confusion_matrix(y_test, y_pred)\n",
    "\n",
    "cm_display = metrics.ConfusionMatrixDisplay(confusion_matrix = confusion_matrix)\n",
    "cm_display.plot()\n",
    "plt.show()\n",
    "\n",
    "print('Precision: ' , metrics.precision_score(y_test, y_pred))\n",
    "print('Sensitivity_recall: ', metrics.recall_score(y_test, y_pred))\n",
    "print(\"Logistic Regression Accuracy: \", np.mean(y_pred == y_test))\n",
    "print('F1_score: ' , metrics.f1_score(y_test, y_pred))"
   ]
  },
  {
   "cell_type": "markdown",
   "metadata": {},
   "source": [
    "## Feature Engineering"
   ]
  },
  {
   "cell_type": "markdown",
   "metadata": {},
   "source": [
    "### Cheking Multicolinearity"
   ]
  },
  {
   "cell_type": "markdown",
   "metadata": {},
   "source": [
    "#### Categorical Variables"
   ]
  },
  {
   "cell_type": "code",
   "execution_count": 51,
   "metadata": {},
   "outputs": [
    {
     "name": "stdout",
     "output_type": "stream",
     "text": [
      "Cramer's V matrix:\n",
      "                   job   marital education   default  mortgage      loan  \\\n",
      "job                1.0  0.182515  0.358729  0.151628  0.010725  0.009716   \n",
      "marital       0.182515       1.0  0.115709  0.095241  0.007461       0.0   \n",
      "education     0.358729  0.115709       1.0  0.170049  0.013475       0.0   \n",
      "default       0.151628  0.095241  0.170049       1.0  0.010573       0.0   \n",
      "mortgage      0.010725  0.007461  0.013475  0.010573       1.0  0.691591   \n",
      "loan          0.009716       0.0       0.0       0.0  0.691591       1.0   \n",
      "contact_type  0.090402  0.050755  0.087211  0.095723  0.059714  0.015922   \n",
      "p_outcome     0.081242  0.030041  0.033959  0.076418  0.016312       0.0   \n",
      "y              0.15165  0.053787  0.067365  0.099111  0.009458       0.0   \n",
      "\n",
      "             contact_type p_outcome         y  \n",
      "job              0.090402  0.081242   0.15165  \n",
      "marital          0.050755  0.030041  0.053787  \n",
      "education        0.087211  0.033959  0.067365  \n",
      "default          0.095723  0.076418  0.099111  \n",
      "mortgage         0.059714  0.016312  0.009458  \n",
      "loan             0.015922       0.0       0.0  \n",
      "contact_type          1.0  0.171241  0.144546  \n",
      "p_outcome        0.171241       1.0  0.320414  \n",
      "y                0.144546  0.320414  0.999879  \n"
     ]
    }
   ],
   "source": [
    "from scipy.stats import chi2_contingency\n",
    "\n",
    "def cramers_v(x, y):\n",
    "    confusion_matrix = pd.crosstab(x, y)\n",
    "    chi2 = chi2_contingency(confusion_matrix)[0]\n",
    "    n = confusion_matrix.sum().sum()\n",
    "    phi2 = chi2 / n\n",
    "    r, k = confusion_matrix.shape\n",
    "    phi2corr = max(0, phi2 - ((k-1)*(r-1))/(n-1))\n",
    "    rcorr = r - ((r-1)**2)/(n-1)\n",
    "    kcorr = k - ((k-1)**2)/(n-1)\n",
    "    return np.sqrt(phi2corr / min((kcorr-1), (rcorr-1)))\n",
    "\n",
    "# Example usage:\n",
    "# Assuming df is your DataFrame with categorical variables\n",
    "categorical_columns = cmpn_char.select_dtypes(include=['object']).columns\n",
    "cramers_v_matrix = pd.DataFrame(index=categorical_columns, columns=categorical_columns)\n",
    "\n",
    "for col1 in categorical_columns:\n",
    "    for col2 in categorical_columns:\n",
    "        cramers_v_matrix.loc[col1, col2] = cramers_v(cmpn_char[col1], cmpn_char[col2])\n",
    "\n",
    "print(\"Cramer's V matrix:\")\n",
    "print(cramers_v_matrix)"
   ]
  },
  {
   "cell_type": "code",
   "execution_count": 52,
   "metadata": {},
   "outputs": [
    {
     "name": "stdout",
     "output_type": "stream",
     "text": [
      "Pairs of variables with Cramer's V > 0.3:\n",
      "     level_0    level_1 Cramer's V\n",
      "0        job  education   0.358729\n",
      "1  education        job   0.358729\n",
      "2   mortgage       loan   0.691591\n",
      "3       loan   mortgage   0.691591\n",
      "4  p_outcome          y   0.320414\n",
      "5          y  p_outcome   0.320414\n"
     ]
    }
   ],
   "source": [
    "# Threshold for Cramer's V value\n",
    "threshold = 0.3\n",
    "\n",
    "# Filter Cramer's V matrix for values greater than the threshold\n",
    "cramers_v_greater_than_03 = cramers_v_matrix[cramers_v_matrix > threshold]\n",
    "\n",
    "# Drop diagonal elements (where the variable is compared to itself)\n",
    "np.fill_diagonal(cramers_v_greater_than_03.values, np.nan)\n",
    "\n",
    "# Print values greater than 0.3\n",
    "print(\"Pairs of variables with Cramer's V > 0.3:\")\n",
    "print(cramers_v_greater_than_03.stack().reset_index().rename(columns={0: \"Cramer's V\"}))"
   ]
  },
  {
   "cell_type": "markdown",
   "metadata": {},
   "source": [
    "#### Numeric Variables"
   ]
  },
  {
   "cell_type": "code",
   "execution_count": 53,
   "metadata": {},
   "outputs": [
    {
     "data": {
      "text/plain": [
       "[]"
      ]
     },
     "execution_count": 53,
     "metadata": {},
     "output_type": "execute_result"
    }
   ],
   "source": [
    "corr_matrix = cmpn_num.corr().abs()\n",
    "\n",
    "upper = corr_matrix.where(np.triu(np.ones(corr_matrix.shape), k=1).astype(np.bool_))\n",
    "\n",
    "to_drop = [col for col in upper.columns if any(upper[col] > 0.95)]\n",
    "to_drop"
   ]
  },
  {
   "cell_type": "markdown",
   "metadata": {},
   "source": [
    "In our modeling process, we've decided to exclude the \"default\" feature as it's unrelated to the likelihood of individuals subscribing to term deposits, our primary focus. Additionally, we've identified moderate multicollinearity between the \"Job\" and \"Education\" features, as well as between \"Mortgage\" and \"Loan\". To maintain model robustness and interpretability, we've opted to remove these correlated features from our analysis.\n",
    "\n",
    "\n",
    "\n",
    "\n",
    "\n"
   ]
  },
  {
   "cell_type": "code",
   "execution_count": 54,
   "metadata": {},
   "outputs": [],
   "source": [
    "#create a copy of cmpn, so it won't mess up the original dataset\n",
    "df = cmpn_impute.copy()\n",
    "df\n",
    "# Change the outcome to binary, i.e. 0 and 1\n",
    "df.loc[df.y=='yes',\"y_int\"] = 1\n",
    "df.loc[df.y=='no',\"y_int\"] = 0\n",
    "\n",
    "df = df.drop(columns=['y', 'date','default','mortgage','loan'])"
   ]
  },
  {
   "cell_type": "code",
   "execution_count": 55,
   "metadata": {},
   "outputs": [
    {
     "name": "stdout",
     "output_type": "stream",
     "text": [
      "Index(['cust_id', 'age', 'duration_mins', 'contact_num', 'p_days', 'y_int',\n",
      "       'job_admin.', 'job_blue-collar', 'job_entrepreneur', 'job_housemaid',\n",
      "       'job_management', 'job_retired', 'job_self-employed', 'job_services',\n",
      "       'job_student', 'job_technician', 'job_unemployed', 'job_unknown',\n",
      "       'marital_divorced', 'marital_married', 'marital_single',\n",
      "       'marital_unknown', 'education_basic.4y', 'education_basic.6y',\n",
      "       'education_basic.9y', 'education_high.school', 'education_illiterate',\n",
      "       'education_professional.course', 'education_university.degree',\n",
      "       'education_unknown', 'contact_type_cellular', 'contact_type_telephone',\n",
      "       'contact_type_unknown', 'p_outcome_failure', 'p_outcome_nonexistent',\n",
      "       'p_outcome_success', 'p_outcome_unknown'],\n",
      "      dtype='object')\n"
     ]
    }
   ],
   "source": [
    "df2 = pd.get_dummies(df)\n",
    "print(df2.columns)"
   ]
  },
  {
   "cell_type": "code",
   "execution_count": 56,
   "metadata": {},
   "outputs": [],
   "source": [
    "#Setting predictors\n",
    "X = df2[['cust_id', 'age', 'duration_mins', 'contact_num', 'p_days', \n",
    "       'job_admin.', 'job_blue-collar', 'job_entrepreneur', 'job_housemaid',\n",
    "       'job_management', 'job_retired', 'job_self-employed', 'job_services',\n",
    "       'job_student', 'job_technician', 'job_unemployed', 'job_unknown',\n",
    "       'marital_divorced', 'marital_married', 'marital_single',\n",
    "       'marital_unknown', 'education_basic.4y', 'education_basic.6y',\n",
    "       'education_basic.9y', 'education_high.school', 'education_illiterate',\n",
    "       'education_professional.course', 'education_university.degree',\n",
    "       'education_unknown', 'contact_type_cellular', 'contact_type_telephone',\n",
    "       'contact_type_unknown', 'p_outcome_failure', 'p_outcome_nonexistent',\n",
    "       'p_outcome_success', 'p_outcome_unknown']]\n",
    "\n",
    "#Setting y_int as outcome\n",
    "y = df2.y_int"
   ]
  },
  {
   "cell_type": "code",
   "execution_count": 57,
   "metadata": {},
   "outputs": [],
   "source": [
    "from sklearn.model_selection import train_test_split\n",
    "X_train, X_test, y_train, y_test = train_test_split(X, y, test_size=0.2, random_state=2023)"
   ]
  },
  {
   "cell_type": "code",
   "execution_count": 58,
   "metadata": {},
   "outputs": [
    {
     "name": "stderr",
     "output_type": "stream",
     "text": [
      "/home/codespace/.local/lib/python3.10/site-packages/sklearn/linear_model/_logistic.py:469: ConvergenceWarning: lbfgs failed to converge (status=1):\n",
      "STOP: TOTAL NO. of ITERATIONS REACHED LIMIT.\n",
      "\n",
      "Increase the number of iterations (max_iter) or scale the data as shown in:\n",
      "    https://scikit-learn.org/stable/modules/preprocessing.html\n",
      "Please also refer to the documentation for alternative solver options:\n",
      "    https://scikit-learn.org/stable/modules/linear_model.html#logistic-regression\n",
      "  n_iter_i = _check_optimize_result(\n"
     ]
    }
   ],
   "source": [
    "from sklearn.linear_model import LogisticRegression\n",
    "from sklearn.metrics import confusion_matrix\n",
    "\n",
    "#Fit the logistic regression model\n",
    "log_model = LogisticRegression()\n",
    "log_clf=log_model.fit(X_train, y_train)\n",
    "\n",
    "# Predicted classes\n",
    "y_pred=log_clf.predict(X_test)"
   ]
  },
  {
   "cell_type": "code",
   "execution_count": 59,
   "metadata": {},
   "outputs": [
    {
     "data": {
      "image/png": "[encoded data removed]",
      "text/plain": [
       "<Figure size 640x480 with 2 Axes>"
      ]
     },
     "metadata": {},
     "output_type": "display_data"
    },
    {
     "name": "stdout",
     "output_type": "stream",
     "text": [
      "Precision:  0.6682464454976303\n",
      "Sensitivity_recall:  0.3055254604550379\n",
      "Logistic Regression Accuracy:  0.9051954357853847\n",
      "F1_score:  0.41933085501858736\n"
     ]
    }
   ],
   "source": [
    "from sklearn import metrics\n",
    "confusion_matrix = metrics.confusion_matrix(y_test, y_pred)\n",
    "\n",
    "cm_display = metrics.ConfusionMatrixDisplay(confusion_matrix = confusion_matrix)\n",
    "cm_display.plot()\n",
    "plt.show()\n",
    "\n",
    "print('Precision: ' , metrics.precision_score(y_test, y_pred))\n",
    "print('Sensitivity_recall: ', metrics.recall_score(y_test, y_pred))\n",
    "print(\"Logistic Regression Accuracy: \", np.mean(y_pred == y_test))\n",
    "print('F1_score: ' , metrics.f1_score(y_test, y_pred))"
   ]
  },
  {
   "cell_type": "markdown",
   "metadata": {},
   "source": [
    "## Regularization Ridge regression"
   ]
  },
  {
   "cell_type": "code",
   "execution_count": 60,
   "metadata": {},
   "outputs": [],
   "source": [
    "#Setting y_int as outcome\n",
    "y = df2.y_int\n",
    "\n",
    "from sklearn.model_selection import train_test_split\n",
    "X_train, X_test, y_train, y_test = train_test_split(X, y, test_size=0.2, random_state=2023)"
   ]
  },
  {
   "cell_type": "code",
   "execution_count": 61,
   "metadata": {},
   "outputs": [
    {
     "name": "stderr",
     "output_type": "stream",
     "text": [
      "/home/codespace/.local/lib/python3.10/site-packages/sklearn/linear_model/_logistic.py:469: ConvergenceWarning: lbfgs failed to converge (status=1):\n",
      "STOP: TOTAL NO. of ITERATIONS REACHED LIMIT.\n",
      "\n",
      "Increase the number of iterations (max_iter) or scale the data as shown in:\n",
      "    https://scikit-learn.org/stable/modules/preprocessing.html\n",
      "Please also refer to the documentation for alternative solver options:\n",
      "    https://scikit-learn.org/stable/modules/linear_model.html#logistic-regression\n",
      "  n_iter_i = _check_optimize_result(\n"
     ]
    }
   ],
   "source": [
    "from sklearn.linear_model import LogisticRegression\n",
    "from sklearn.metrics import confusion_matrix\n",
    "\n",
    "#Fit the logistic regression model\n",
    "penalty = 'l2'\n",
    "C = 0.1\n",
    "log_model = LogisticRegression(penalty=penalty, C=C)\n",
    "log_clf=log_model.fit(X_train, y_train)\n",
    "\n",
    "# Predicted classes\n",
    "y_pred=log_clf.predict(X_test)"
   ]
  },
  {
   "cell_type": "code",
   "execution_count": 62,
   "metadata": {},
   "outputs": [
    {
     "data": {
      "image/png": "[encoded data removed]",
      "text/plain": [
       "<Figure size 640x480 with 2 Axes>"
      ]
     },
     "metadata": {},
     "output_type": "display_data"
    },
    {
     "name": "stdout",
     "output_type": "stream",
     "text": [
      "Precision:  0.6480331262939959\n",
      "Sensitivity_recall:  0.3391115926327194\n",
      "Logistic Regression Accuracy:  0.9053168244719592\n",
      "F1_score:  0.44523470839260315\n"
     ]
    }
   ],
   "source": [
    "from sklearn import metrics\n",
    "confusion_matrix = metrics.confusion_matrix(y_test, y_pred)\n",
    "\n",
    "cm_display = metrics.ConfusionMatrixDisplay(confusion_matrix = confusion_matrix)\n",
    "cm_display.plot()\n",
    "plt.show()\n",
    "\n",
    "print('Precision: ' , metrics.precision_score(y_test, y_pred))\n",
    "print('Sensitivity_recall: ', metrics.recall_score(y_test, y_pred))\n",
    "print(\"Logistic Regression Accuracy: \", np.mean(y_pred == y_test))\n",
    "print('F1_score: ' , metrics.f1_score(y_test, y_pred))"
   ]
  },
  {
   "cell_type": "markdown",
   "metadata": {},
   "source": [
    "## Random Forest"
   ]
  },
  {
   "cell_type": "markdown",
   "metadata": {},
   "source": [
    "Dataset has imbalanced outcomes, meaning one class significantly outweighs the other(s), the Random Forest model may struggle to learn from the minority class. Techniques such as class weighting, resampling, or using alternative evaluation metrics can help address imbalanced data issues."
   ]
  },
  {
   "cell_type": "code",
   "execution_count": 63,
   "metadata": {},
   "outputs": [],
   "source": [
    "#Setting predictors\n",
    "X = df2[['cust_id', 'age', 'duration_mins', 'contact_num', 'p_days',\n",
    "       'job_admin.', 'job_blue-collar', 'job_entrepreneur', 'job_housemaid',\n",
    "       'job_management', 'job_retired', 'job_self-employed', 'job_services',\n",
    "       'job_student', 'job_technician', 'job_unemployed', 'job_unknown',\n",
    "       'marital_divorced', 'marital_married', 'marital_single',\n",
    "       'marital_unknown', 'education_basic.4y', 'education_basic.6y',\n",
    "       'education_basic.9y', 'education_high.school', 'education_illiterate',\n",
    "       'education_professional.course', 'education_university.degree',\n",
    "       'education_unknown', 'contact_type_cellular', 'contact_type_telephone',\n",
    "       'contact_type_unknown', 'p_outcome_failure', 'p_outcome_nonexistent',\n",
    "       'p_outcome_success', 'p_outcome_unknown']]\n",
    "\n",
    "#Setting y_int as outcome\n",
    "y = df2.y_int\n",
    "\n",
    "from sklearn.model_selection import train_test_split\n",
    "X_train, X_test, y_train, y_test = train_test_split(X, y, test_size=0.2, random_state=2023)"
   ]
  },
  {
   "cell_type": "markdown",
   "metadata": {},
   "source": [
    "### Validation Cruve"
   ]
  },
  {
   "cell_type": "code",
   "execution_count": 68,
   "metadata": {},
   "outputs": [
    {
     "data": {
      "image/png": "[encoded data removed]",
      "text/plain": [
       "<Figure size 640x480 with 1 Axes>"
      ]
     },
     "metadata": {},
     "output_type": "display_data"
    }
   ],
   "source": [
    "from sklearn.model_selection import validation_curve\n",
    "import numpy as np\n",
    "import matplotlib.pyplot as plt\n",
    "\n",
    "param_range = np.arange(50, 401, 50)  # Define a range of values for n_estimators\n",
    "\n",
    "train_scores, valid_scores = validation_curve(RandomForestClassifier(max_depth=3, random_state=2023),\n",
    "                                              X_train, y_train,\n",
    "                                              param_name='n_estimators',\n",
    "                                              param_range=param_range,\n",
    "                                              cv=5,\n",
    "                                              scoring='recall')\n",
    "\n",
    "plt.plot(param_range, np.mean(train_scores, axis=1), label='Training score')\n",
    "plt.plot(param_range, np.mean(valid_scores, axis=1), label='Validation score')\n",
    "plt.xlabel('Number of trees (n_estimators)')\n",
    "plt.ylabel('Score')\n",
    "plt.title('Validation Curve')\n",
    "plt.legend()\n",
    "plt.show()\n",
    "\n",
    "best_n_estimators = param_range[np.argmax(np.mean(valid_scores, axis=1))]"
   ]
  },
  {
   "cell_type": "code",
   "execution_count": 69,
   "metadata": {},
   "outputs": [],
   "source": [
    "from sklearn.ensemble import RandomForestClassifier\n",
    "rf_clf = RandomForestClassifier(max_depth=3, n_estimators=250, random_state=2023)\n",
    "rf_clf.fit(X_train, y_train)\n",
    "y_pred=rf_clf.predict(X_test)"
   ]
  },
  {
   "cell_type": "code",
   "execution_count": 70,
   "metadata": {},
   "outputs": [
    {
     "name": "stdout",
     "output_type": "stream",
     "text": [
      "Cross-validation scores: [0.18707941 0.15208614 0.17900404 0.15591398 0.15591398]\n",
      "Mean CV accuracy: 0.1659995079523582\n"
     ]
    }
   ],
   "source": [
    "from sklearn.ensemble import RandomForestClassifier\n",
    "from sklearn.model_selection import cross_val_score\n",
    "\n",
    "# Create a random forest classifier\n",
    "rf_clf = RandomForestClassifier(max_depth=4, random_state=117)\n",
    "\n",
    "# Perform cross-validation\n",
    "cv_scores = cross_val_score(rf_clf, X_train, y_train, cv=5, scoring='recall')\n",
    "\n",
    "# Fit the model on the entire training data\n",
    "rf_clf.fit(X_train, y_train)\n",
    "\n",
    "# Predict on the test data\n",
    "y_pred = rf_clf.predict(X_test)\n",
    "\n",
    "# Print cross-validation scores\n",
    "print(\"Cross-validation scores:\", cv_scores)\n",
    "print(\"Mean CV accuracy:\", np.mean(cv_scores))"
   ]
  },
  {
   "cell_type": "code",
   "execution_count": 71,
   "metadata": {},
   "outputs": [
    {
     "data": {
      "image/png": "[encoded data removed]",
      "text/plain": [
       "<Figure size 640x480 with 2 Axes>"
      ]
     },
     "metadata": {},
     "output_type": "display_data"
    },
    {
     "name": "stdout",
     "output_type": "stream",
     "text": [
      "Precision:  0.8118279569892473\n",
      "Sensitivity_recall:  0.1635969664138678\n",
      "Logistic Regression Accuracy:  0.9020393299344501\n",
      "F1_score:  0.2723174030658251\n"
     ]
    }
   ],
   "source": [
    "from sklearn import metrics\n",
    "confusion_matrix = metrics.confusion_matrix(y_test, y_pred)\n",
    "\n",
    "cm_display = metrics.ConfusionMatrixDisplay(confusion_matrix = confusion_matrix)\n",
    "cm_display.plot()\n",
    "plt.show()\n",
    "\n",
    "print('Precision: ' , metrics.precision_score(y_test, y_pred))\n",
    "print('Sensitivity_recall: ', metrics.recall_score(y_test, y_pred))\n",
    "print(\"Logistic Regression Accuracy: \", np.mean(y_pred == y_test))\n",
    "print('F1_score: ' , metrics.f1_score(y_test, y_pred))"
   ]
  },
  {
   "cell_type": "markdown",
   "metadata": {},
   "source": [
    "### Learning Curve"
   ]
  },
  {
   "cell_type": "code",
   "execution_count": 72,
   "metadata": {},
   "outputs": [
    {
     "data": {
      "image/png": "[encoded data removed]",
      "text/plain": [
       "<Figure size 1000x600 with 1 Axes>"
      ]
     },
     "metadata": {},
     "output_type": "display_data"
    }
   ],
   "source": [
    "import numpy as np\n",
    "import matplotlib.pyplot as plt\n",
    "from sklearn.model_selection import learning_curve\n",
    "\n",
    "def plot_learning_curve(estimator, X, y, cv=5, scoring=None):\n",
    "    train_sizes, train_scores, valid_scores = learning_curve(estimator, X, y, cv=cv, scoring=scoring)\n",
    "\n",
    "    train_scores_mean = np.mean(train_scores, axis=1)\n",
    "    train_scores_std = np.std(train_scores, axis=1)\n",
    "    valid_scores_mean = np.mean(valid_scores, axis=1)\n",
    "    valid_scores_std = np.std(valid_scores, axis=1)\n",
    "\n",
    "    plt.figure(figsize=(10, 6))\n",
    "    plt.fill_between(train_sizes, train_scores_mean - train_scores_std,\n",
    "                     train_scores_mean + train_scores_std, alpha=0.1, color=\"b\")\n",
    "    plt.fill_between(train_sizes, valid_scores_mean - valid_scores_std,\n",
    "                     valid_scores_mean + valid_scores_std, alpha=0.1, color=\"r\")\n",
    "    plt.plot(train_sizes, train_scores_mean, 'o-', color=\"b\", label=\"Training score\")\n",
    "    plt.plot(train_sizes, valid_scores_mean, 'o-', color=\"r\", label=\"Cross-validation score\")\n",
    "    plt.xlabel(\"Training examples\")\n",
    "    plt.ylabel(\"Score\")\n",
    "    plt.title(\"Learning Curve\")\n",
    "    plt.legend(loc=\"best\")\n",
    "    plt.grid()\n",
    "    plt.show()\n",
    "\n",
    "# Example usage:\n",
    "plot_learning_curve(RandomForestClassifier(max_depth=3, random_state=2023), X_train, y_train, cv=10, scoring='recall')"
   ]
  },
  {
   "cell_type": "markdown",
   "metadata": {},
   "source": [
    "### Fixing imbalance"
   ]
  },
  {
   "cell_type": "code",
   "execution_count": 75,
   "metadata": {},
   "outputs": [],
   "source": [
    "# Calculate class frequencies\n",
    "class_counts = np.bincount(y_train)\n",
    "total_samples = len(y_train)\n",
    "\n",
    "# Calculate class weights\n",
    "class_weights = {class_label: total_samples / count for class_label, count in enumerate(class_counts)}"
   ]
  },
  {
   "cell_type": "code",
   "execution_count": 82,
   "metadata": {},
   "outputs": [
    {
     "data": {
      "image/png": "[encoded data removed]",
      "text/plain": [
       "<Figure size 640x480 with 1 Axes>"
      ]
     },
     "metadata": {},
     "output_type": "display_data"
    }
   ],
   "source": [
    "param_range = np.arange(50, 401, 50)  # Define a range of values for n_estimators\n",
    "\n",
    "train_scores, valid_scores = validation_curve(RandomForestClassifier(max_depth=3,class_weight=class_weights, random_state=2023),\n",
    "                                              X_train, y_train,\n",
    "                                              param_name='n_estimators',\n",
    "                                              param_range=param_range,\n",
    "                                              cv=5,\n",
    "                                              scoring='recall')\n",
    "\n",
    "plt.plot(param_range, np.mean(train_scores, axis=1), label='Training score')\n",
    "plt.plot(param_range, np.mean(valid_scores, axis=1), label='Validation score')\n",
    "plt.xlabel('Number of trees (n_estimators)')\n",
    "plt.ylabel('Score')\n",
    "plt.title('Validation Curve')\n",
    "plt.legend()\n",
    "plt.show()\n",
    "\n",
    "best_n_estimators = param_range[np.argmax(np.mean(valid_scores, axis=1))]"
   ]
  },
  {
   "cell_type": "code",
   "execution_count": 85,
   "metadata": {},
   "outputs": [],
   "source": [
    "rf_clf = RandomForestClassifier(max_depth=3, n_estimators=150, class_weight=class_weights, random_state=2023)\n",
    "rf_clf.fit(X_train, y_train)\n",
    "y_pred=rf_clf.predict(X_test)"
   ]
  },
  {
   "cell_type": "code",
   "execution_count": 86,
   "metadata": {},
   "outputs": [
    {
     "data": {
      "image/png": "[encoded data removed]",
      "text/plain": [
       "<Figure size 640x480 with 2 Axes>"
      ]
     },
     "metadata": {},
     "output_type": "display_data"
    },
    {
     "name": "stdout",
     "output_type": "stream",
     "text": [
      "Precision:  0.34309240622140896\n",
      "Sensitivity_recall:  0.8125677139761647\n",
      "Logistic Regression Accuracy:  0.8046856033017723\n",
      "F1_score:  0.48247024766806046\n"
     ]
    }
   ],
   "source": [
    "from sklearn import metrics\n",
    "confusion_matrix = metrics.confusion_matrix(y_test, y_pred)\n",
    "\n",
    "cm_display = metrics.ConfusionMatrixDisplay(confusion_matrix = confusion_matrix)\n",
    "cm_display.plot()\n",
    "plt.show()\n",
    "\n",
    "print('Precision: ' , metrics.precision_score(y_test, y_pred))\n",
    "print('Sensitivity_recall: ', metrics.recall_score(y_test, y_pred))\n",
    "print(\"Logistic Regression Accuracy: \", np.mean(y_pred == y_test))\n",
    "print('F1_score: ' , metrics.f1_score(y_test, y_pred))"
   ]
  },
  {
   "cell_type": "markdown",
   "metadata": {},
   "source": [
    "- A small gap indicates low variance (i.e., the model generalizes well to unseen data).\n",
    "- Training score is not significantly higher than the validation score, meaning not overfitting the data."
   ]
  },
  {
   "cell_type": "code",
   "execution_count": 87,
   "metadata": {},
   "outputs": [
    {
     "data": {
      "image/png": "[encoded data removed]",
      "text/plain": [
       "<Figure size 1000x600 with 1 Axes>"
      ]
     },
     "metadata": {},
     "output_type": "display_data"
    }
   ],
   "source": [
    "plot_learning_curve(RandomForestClassifier(max_depth=3, n_estimators=150, class_weight=class_weights, random_state=2023), X_train, y_train, cv=10, scoring='recall')"
   ]
  }
 ],
 "metadata": {
  "kernelspec": {
   "display_name": "Python 3",
   "language": "python",
   "name": "python3"
  },
  "language_info": {
   "codemirror_mode": {
    "name": "ipython",
    "version": 3
   },
   "file_extension": ".py",
   "mimetype": "text/x-python",
   "name": "python",
   "nbconvert_exporter": "python",
   "pygments_lexer": "ipython3",
   "version": "3.10.13"
  }
 },
 "nbformat": 4,
 "nbformat_minor": 2
}
